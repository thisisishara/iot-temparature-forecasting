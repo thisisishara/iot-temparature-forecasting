{
  "nbformat": 4,
  "nbformat_minor": 0,
  "metadata": {
    "colab": {
      "name": "IOT_ARIMA_All_Data_3.ipynb",
      "provenance": []
    },
    "kernelspec": {
      "name": "python3",
      "display_name": "Python 3"
    },
    "language_info": {
      "name": "python"
    }
  },
  "cells": [
    {
      "cell_type": "code",
      "source": [
        "%pip install pmdarima"
      ],
      "metadata": {
        "id": "3xHalcDd2nk4",
        "colab": {
          "base_uri": "https://localhost:8080/"
        },
        "outputId": "7eea3783-be5e-4d2e-e7fa-36b219d6d8c8"
      },
      "execution_count": 1,
      "outputs": [
        {
          "output_type": "stream",
          "name": "stdout",
          "text": [
            "Requirement already satisfied: pmdarima in /usr/local/lib/python3.7/dist-packages (1.8.5)\n",
            "Requirement already satisfied: scikit-learn>=0.22 in /usr/local/lib/python3.7/dist-packages (from pmdarima) (1.0.2)\n",
            "Requirement already satisfied: pandas>=0.19 in /usr/local/lib/python3.7/dist-packages (from pmdarima) (1.3.5)\n",
            "Requirement already satisfied: joblib>=0.11 in /usr/local/lib/python3.7/dist-packages (from pmdarima) (1.1.0)\n",
            "Requirement already satisfied: Cython!=0.29.18,>=0.29 in /usr/local/lib/python3.7/dist-packages (from pmdarima) (0.29.28)\n",
            "Requirement already satisfied: urllib3 in /usr/local/lib/python3.7/dist-packages (from pmdarima) (1.24.3)\n",
            "Requirement already satisfied: scipy>=1.3.2 in /usr/local/lib/python3.7/dist-packages (from pmdarima) (1.4.1)\n",
            "Requirement already satisfied: statsmodels!=0.12.0,>=0.11 in /usr/local/lib/python3.7/dist-packages (from pmdarima) (0.13.2)\n",
            "Requirement already satisfied: numpy>=1.19.3 in /usr/local/lib/python3.7/dist-packages (from pmdarima) (1.21.5)\n",
            "Requirement already satisfied: setuptools!=50.0.0,>=38.6.0 in /usr/local/lib/python3.7/dist-packages (from pmdarima) (57.4.0)\n",
            "Requirement already satisfied: pytz>=2017.3 in /usr/local/lib/python3.7/dist-packages (from pandas>=0.19->pmdarima) (2018.9)\n",
            "Requirement already satisfied: python-dateutil>=2.7.3 in /usr/local/lib/python3.7/dist-packages (from pandas>=0.19->pmdarima) (2.8.2)\n",
            "Requirement already satisfied: six>=1.5 in /usr/local/lib/python3.7/dist-packages (from python-dateutil>=2.7.3->pandas>=0.19->pmdarima) (1.15.0)\n",
            "Requirement already satisfied: threadpoolctl>=2.0.0 in /usr/local/lib/python3.7/dist-packages (from scikit-learn>=0.22->pmdarima) (3.1.0)\n",
            "Requirement already satisfied: patsy>=0.5.2 in /usr/local/lib/python3.7/dist-packages (from statsmodels!=0.12.0,>=0.11->pmdarima) (0.5.2)\n",
            "Requirement already satisfied: packaging>=21.3 in /usr/local/lib/python3.7/dist-packages (from statsmodels!=0.12.0,>=0.11->pmdarima) (21.3)\n",
            "Requirement already satisfied: pyparsing!=3.0.5,>=2.0.2 in /usr/local/lib/python3.7/dist-packages (from packaging>=21.3->statsmodels!=0.12.0,>=0.11->pmdarima) (3.0.7)\n"
          ]
        }
      ]
    },
    {
      "cell_type": "code",
      "execution_count": 2,
      "metadata": {
        "id": "0-ov0RQhVkhu"
      },
      "outputs": [],
      "source": [
        "import pandas as pd\n",
        "from matplotlib import pyplot as plt"
      ]
    },
    {
      "cell_type": "code",
      "source": [
        "from google.colab import drive\n",
        "drive.mount('/content/drive')"
      ],
      "metadata": {
        "colab": {
          "base_uri": "https://localhost:8080/"
        },
        "id": "l7Wt4_Q7hab9",
        "outputId": "cdd3e634-cfd7-4d32-fed6-b06d738550cf"
      },
      "execution_count": 3,
      "outputs": [
        {
          "output_type": "stream",
          "name": "stdout",
          "text": [
            "Drive already mounted at /content/drive; to attempt to forcibly remount, call drive.mount(\"/content/drive\", force_remount=True).\n"
          ]
        }
      ]
    },
    {
      "cell_type": "code",
      "source": [
        "%cd /content/drive/MyDrive/SLIIT/Y4S1/IOTBDA"
      ],
      "metadata": {
        "colab": {
          "base_uri": "https://localhost:8080/"
        },
        "id": "WRR19BPgXD0U",
        "outputId": "669dc334-d96a-4816-c336-4203cfb4c6fb"
      },
      "execution_count": 4,
      "outputs": [
        {
          "output_type": "stream",
          "name": "stdout",
          "text": [
            "/content/drive/MyDrive/SLIIT/Y4S1/IOTBDA\n"
          ]
        }
      ]
    },
    {
      "cell_type": "code",
      "source": [
        "temp = pd.read_csv(\"/content/drive/MyDrive/SLIIT/Y4S1/IOTBDA/temp.csv\", date_parser=[0])"
      ],
      "metadata": {
        "id": "zdc66cz7WJd6"
      },
      "execution_count": 5,
      "outputs": []
    },
    {
      "cell_type": "code",
      "source": [
        "temp.head()"
      ],
      "metadata": {
        "colab": {
          "base_uri": "https://localhost:8080/",
          "height": 206
        },
        "id": "BQer1uNuWfyk",
        "outputId": "65acc0b0-37d7-4424-e07d-60191798f017"
      },
      "execution_count": 6,
      "outputs": [
        {
          "output_type": "execute_result",
          "data": {
            "text/plain": [
              "           dt  AverageTemperature  AverageTemperatureUncertainty     City  \\\n",
              "0  1796-01-01              24.317                          2.190  Colombo   \n",
              "1  1796-02-01              23.923                          1.484  Colombo   \n",
              "2  1796-03-01              24.407                          2.309  Colombo   \n",
              "3  1796-04-01              27.171                          1.650  Colombo   \n",
              "4  1796-05-01              29.050                          1.290  Colombo   \n",
              "\n",
              "     Country  \n",
              "0  Sri Lanka  \n",
              "1  Sri Lanka  \n",
              "2  Sri Lanka  \n",
              "3  Sri Lanka  \n",
              "4  Sri Lanka  "
            ],
            "text/html": [
              "\n",
              "  <div id=\"df-aa8e59c0-c89b-4343-a66e-ef7de18b5106\">\n",
              "    <div class=\"colab-df-container\">\n",
              "      <div>\n",
              "<style scoped>\n",
              "    .dataframe tbody tr th:only-of-type {\n",
              "        vertical-align: middle;\n",
              "    }\n",
              "\n",
              "    .dataframe tbody tr th {\n",
              "        vertical-align: top;\n",
              "    }\n",
              "\n",
              "    .dataframe thead th {\n",
              "        text-align: right;\n",
              "    }\n",
              "</style>\n",
              "<table border=\"1\" class=\"dataframe\">\n",
              "  <thead>\n",
              "    <tr style=\"text-align: right;\">\n",
              "      <th></th>\n",
              "      <th>dt</th>\n",
              "      <th>AverageTemperature</th>\n",
              "      <th>AverageTemperatureUncertainty</th>\n",
              "      <th>City</th>\n",
              "      <th>Country</th>\n",
              "    </tr>\n",
              "  </thead>\n",
              "  <tbody>\n",
              "    <tr>\n",
              "      <th>0</th>\n",
              "      <td>1796-01-01</td>\n",
              "      <td>24.317</td>\n",
              "      <td>2.190</td>\n",
              "      <td>Colombo</td>\n",
              "      <td>Sri Lanka</td>\n",
              "    </tr>\n",
              "    <tr>\n",
              "      <th>1</th>\n",
              "      <td>1796-02-01</td>\n",
              "      <td>23.923</td>\n",
              "      <td>1.484</td>\n",
              "      <td>Colombo</td>\n",
              "      <td>Sri Lanka</td>\n",
              "    </tr>\n",
              "    <tr>\n",
              "      <th>2</th>\n",
              "      <td>1796-03-01</td>\n",
              "      <td>24.407</td>\n",
              "      <td>2.309</td>\n",
              "      <td>Colombo</td>\n",
              "      <td>Sri Lanka</td>\n",
              "    </tr>\n",
              "    <tr>\n",
              "      <th>3</th>\n",
              "      <td>1796-04-01</td>\n",
              "      <td>27.171</td>\n",
              "      <td>1.650</td>\n",
              "      <td>Colombo</td>\n",
              "      <td>Sri Lanka</td>\n",
              "    </tr>\n",
              "    <tr>\n",
              "      <th>4</th>\n",
              "      <td>1796-05-01</td>\n",
              "      <td>29.050</td>\n",
              "      <td>1.290</td>\n",
              "      <td>Colombo</td>\n",
              "      <td>Sri Lanka</td>\n",
              "    </tr>\n",
              "  </tbody>\n",
              "</table>\n",
              "</div>\n",
              "      <button class=\"colab-df-convert\" onclick=\"convertToInteractive('df-aa8e59c0-c89b-4343-a66e-ef7de18b5106')\"\n",
              "              title=\"Convert this dataframe to an interactive table.\"\n",
              "              style=\"display:none;\">\n",
              "        \n",
              "  <svg xmlns=\"http://www.w3.org/2000/svg\" height=\"24px\"viewBox=\"0 0 24 24\"\n",
              "       width=\"24px\">\n",
              "    <path d=\"M0 0h24v24H0V0z\" fill=\"none\"/>\n",
              "    <path d=\"M18.56 5.44l.94 2.06.94-2.06 2.06-.94-2.06-.94-.94-2.06-.94 2.06-2.06.94zm-11 1L8.5 8.5l.94-2.06 2.06-.94-2.06-.94L8.5 2.5l-.94 2.06-2.06.94zm10 10l.94 2.06.94-2.06 2.06-.94-2.06-.94-.94-2.06-.94 2.06-2.06.94z\"/><path d=\"M17.41 7.96l-1.37-1.37c-.4-.4-.92-.59-1.43-.59-.52 0-1.04.2-1.43.59L10.3 9.45l-7.72 7.72c-.78.78-.78 2.05 0 2.83L4 21.41c.39.39.9.59 1.41.59.51 0 1.02-.2 1.41-.59l7.78-7.78 2.81-2.81c.8-.78.8-2.07 0-2.86zM5.41 20L4 18.59l7.72-7.72 1.47 1.35L5.41 20z\"/>\n",
              "  </svg>\n",
              "      </button>\n",
              "      \n",
              "  <style>\n",
              "    .colab-df-container {\n",
              "      display:flex;\n",
              "      flex-wrap:wrap;\n",
              "      gap: 12px;\n",
              "    }\n",
              "\n",
              "    .colab-df-convert {\n",
              "      background-color: #E8F0FE;\n",
              "      border: none;\n",
              "      border-radius: 50%;\n",
              "      cursor: pointer;\n",
              "      display: none;\n",
              "      fill: #1967D2;\n",
              "      height: 32px;\n",
              "      padding: 0 0 0 0;\n",
              "      width: 32px;\n",
              "    }\n",
              "\n",
              "    .colab-df-convert:hover {\n",
              "      background-color: #E2EBFA;\n",
              "      box-shadow: 0px 1px 2px rgba(60, 64, 67, 0.3), 0px 1px 3px 1px rgba(60, 64, 67, 0.15);\n",
              "      fill: #174EA6;\n",
              "    }\n",
              "\n",
              "    [theme=dark] .colab-df-convert {\n",
              "      background-color: #3B4455;\n",
              "      fill: #D2E3FC;\n",
              "    }\n",
              "\n",
              "    [theme=dark] .colab-df-convert:hover {\n",
              "      background-color: #434B5C;\n",
              "      box-shadow: 0px 1px 3px 1px rgba(0, 0, 0, 0.15);\n",
              "      filter: drop-shadow(0px 1px 2px rgba(0, 0, 0, 0.3));\n",
              "      fill: #FFFFFF;\n",
              "    }\n",
              "  </style>\n",
              "\n",
              "      <script>\n",
              "        const buttonEl =\n",
              "          document.querySelector('#df-aa8e59c0-c89b-4343-a66e-ef7de18b5106 button.colab-df-convert');\n",
              "        buttonEl.style.display =\n",
              "          google.colab.kernel.accessAllowed ? 'block' : 'none';\n",
              "\n",
              "        async function convertToInteractive(key) {\n",
              "          const element = document.querySelector('#df-aa8e59c0-c89b-4343-a66e-ef7de18b5106');\n",
              "          const dataTable =\n",
              "            await google.colab.kernel.invokeFunction('convertToInteractive',\n",
              "                                                     [key], {});\n",
              "          if (!dataTable) return;\n",
              "\n",
              "          const docLinkHtml = 'Like what you see? Visit the ' +\n",
              "            '<a target=\"_blank\" href=https://colab.research.google.com/notebooks/data_table.ipynb>data table notebook</a>'\n",
              "            + ' to learn more about interactive tables.';\n",
              "          element.innerHTML = '';\n",
              "          dataTable['output_type'] = 'display_data';\n",
              "          await google.colab.output.renderOutput(dataTable, element);\n",
              "          const docLink = document.createElement('div');\n",
              "          docLink.innerHTML = docLinkHtml;\n",
              "          element.appendChild(docLink);\n",
              "        }\n",
              "      </script>\n",
              "    </div>\n",
              "  </div>\n",
              "  "
            ]
          },
          "metadata": {},
          "execution_count": 6
        }
      ]
    },
    {
      "cell_type": "code",
      "source": [
        "temp.shape"
      ],
      "metadata": {
        "colab": {
          "base_uri": "https://localhost:8080/"
        },
        "id": "X6zG5M9JWkLY",
        "outputId": "1669e48a-f7fd-4397-9b8c-706114d96f0a"
      },
      "execution_count": 7,
      "outputs": [
        {
          "output_type": "execute_result",
          "data": {
            "text/plain": [
              "(2613, 5)"
            ]
          },
          "metadata": {},
          "execution_count": 7
        }
      ]
    },
    {
      "cell_type": "code",
      "source": [
        "temp.dt = pd.to_datetime(temp.dt)\n",
        "print(temp.info())"
      ],
      "metadata": {
        "id": "LqTDnZbdyvq8",
        "colab": {
          "base_uri": "https://localhost:8080/"
        },
        "outputId": "d08906e0-1637-49aa-8908-7a3c6bd9947f"
      },
      "execution_count": 8,
      "outputs": [
        {
          "output_type": "stream",
          "name": "stdout",
          "text": [
            "<class 'pandas.core.frame.DataFrame'>\n",
            "RangeIndex: 2613 entries, 0 to 2612\n",
            "Data columns (total 5 columns):\n",
            " #   Column                         Non-Null Count  Dtype         \n",
            "---  ------                         --------------  -----         \n",
            " 0   dt                             2613 non-null   datetime64[ns]\n",
            " 1   AverageTemperature             2508 non-null   float64       \n",
            " 2   AverageTemperatureUncertainty  2508 non-null   float64       \n",
            " 3   City                           2613 non-null   object        \n",
            " 4   Country                        2613 non-null   object        \n",
            "dtypes: datetime64[ns](1), float64(2), object(2)\n",
            "memory usage: 102.2+ KB\n",
            "None\n"
          ]
        }
      ]
    },
    {
      "cell_type": "code",
      "source": [
        "temp.isnull().sum()"
      ],
      "metadata": {
        "colab": {
          "base_uri": "https://localhost:8080/"
        },
        "id": "QNLxzfZ9bOyw",
        "outputId": "e3a74c2d-3224-46bb-a085-282af2da7181"
      },
      "execution_count": 9,
      "outputs": [
        {
          "output_type": "execute_result",
          "data": {
            "text/plain": [
              "dt                                 0\n",
              "AverageTemperature               105\n",
              "AverageTemperatureUncertainty    105\n",
              "City                               0\n",
              "Country                            0\n",
              "dtype: int64"
            ]
          },
          "metadata": {},
          "execution_count": 9
        }
      ]
    },
    {
      "cell_type": "code",
      "source": [
        "temp[temp.AverageTemperature.isna()]"
      ],
      "metadata": {
        "colab": {
          "base_uri": "https://localhost:8080/",
          "height": 423
        },
        "id": "gsbkjwp9bSjQ",
        "outputId": "fb1bfb4b-dea3-4640-b434-15a3267f7af0"
      },
      "execution_count": 10,
      "outputs": [
        {
          "output_type": "execute_result",
          "data": {
            "text/plain": [
              "             dt  AverageTemperature  AverageTemperatureUncertainty     City  \\\n",
              "12   1797-01-01                 NaN                            NaN  Colombo   \n",
              "13   1797-02-01                 NaN                            NaN  Colombo   \n",
              "27   1798-04-01                 NaN                            NaN  Colombo   \n",
              "28   1798-05-01                 NaN                            NaN  Colombo   \n",
              "63   1801-04-01                 NaN                            NaN  Colombo   \n",
              "...         ...                 ...                            ...      ...   \n",
              "824  1864-09-01                 NaN                            NaN  Colombo   \n",
              "825  1864-10-01                 NaN                            NaN  Colombo   \n",
              "826  1864-11-01                 NaN                            NaN  Colombo   \n",
              "827  1864-12-01                 NaN                            NaN  Colombo   \n",
              "2612 2013-09-01                 NaN                            NaN  Colombo   \n",
              "\n",
              "        Country  \n",
              "12    Sri Lanka  \n",
              "13    Sri Lanka  \n",
              "27    Sri Lanka  \n",
              "28    Sri Lanka  \n",
              "63    Sri Lanka  \n",
              "...         ...  \n",
              "824   Sri Lanka  \n",
              "825   Sri Lanka  \n",
              "826   Sri Lanka  \n",
              "827   Sri Lanka  \n",
              "2612  Sri Lanka  \n",
              "\n",
              "[105 rows x 5 columns]"
            ],
            "text/html": [
              "\n",
              "  <div id=\"df-e68f4135-2033-4100-a776-15ae76eeea64\">\n",
              "    <div class=\"colab-df-container\">\n",
              "      <div>\n",
              "<style scoped>\n",
              "    .dataframe tbody tr th:only-of-type {\n",
              "        vertical-align: middle;\n",
              "    }\n",
              "\n",
              "    .dataframe tbody tr th {\n",
              "        vertical-align: top;\n",
              "    }\n",
              "\n",
              "    .dataframe thead th {\n",
              "        text-align: right;\n",
              "    }\n",
              "</style>\n",
              "<table border=\"1\" class=\"dataframe\">\n",
              "  <thead>\n",
              "    <tr style=\"text-align: right;\">\n",
              "      <th></th>\n",
              "      <th>dt</th>\n",
              "      <th>AverageTemperature</th>\n",
              "      <th>AverageTemperatureUncertainty</th>\n",
              "      <th>City</th>\n",
              "      <th>Country</th>\n",
              "    </tr>\n",
              "  </thead>\n",
              "  <tbody>\n",
              "    <tr>\n",
              "      <th>12</th>\n",
              "      <td>1797-01-01</td>\n",
              "      <td>NaN</td>\n",
              "      <td>NaN</td>\n",
              "      <td>Colombo</td>\n",
              "      <td>Sri Lanka</td>\n",
              "    </tr>\n",
              "    <tr>\n",
              "      <th>13</th>\n",
              "      <td>1797-02-01</td>\n",
              "      <td>NaN</td>\n",
              "      <td>NaN</td>\n",
              "      <td>Colombo</td>\n",
              "      <td>Sri Lanka</td>\n",
              "    </tr>\n",
              "    <tr>\n",
              "      <th>27</th>\n",
              "      <td>1798-04-01</td>\n",
              "      <td>NaN</td>\n",
              "      <td>NaN</td>\n",
              "      <td>Colombo</td>\n",
              "      <td>Sri Lanka</td>\n",
              "    </tr>\n",
              "    <tr>\n",
              "      <th>28</th>\n",
              "      <td>1798-05-01</td>\n",
              "      <td>NaN</td>\n",
              "      <td>NaN</td>\n",
              "      <td>Colombo</td>\n",
              "      <td>Sri Lanka</td>\n",
              "    </tr>\n",
              "    <tr>\n",
              "      <th>63</th>\n",
              "      <td>1801-04-01</td>\n",
              "      <td>NaN</td>\n",
              "      <td>NaN</td>\n",
              "      <td>Colombo</td>\n",
              "      <td>Sri Lanka</td>\n",
              "    </tr>\n",
              "    <tr>\n",
              "      <th>...</th>\n",
              "      <td>...</td>\n",
              "      <td>...</td>\n",
              "      <td>...</td>\n",
              "      <td>...</td>\n",
              "      <td>...</td>\n",
              "    </tr>\n",
              "    <tr>\n",
              "      <th>824</th>\n",
              "      <td>1864-09-01</td>\n",
              "      <td>NaN</td>\n",
              "      <td>NaN</td>\n",
              "      <td>Colombo</td>\n",
              "      <td>Sri Lanka</td>\n",
              "    </tr>\n",
              "    <tr>\n",
              "      <th>825</th>\n",
              "      <td>1864-10-01</td>\n",
              "      <td>NaN</td>\n",
              "      <td>NaN</td>\n",
              "      <td>Colombo</td>\n",
              "      <td>Sri Lanka</td>\n",
              "    </tr>\n",
              "    <tr>\n",
              "      <th>826</th>\n",
              "      <td>1864-11-01</td>\n",
              "      <td>NaN</td>\n",
              "      <td>NaN</td>\n",
              "      <td>Colombo</td>\n",
              "      <td>Sri Lanka</td>\n",
              "    </tr>\n",
              "    <tr>\n",
              "      <th>827</th>\n",
              "      <td>1864-12-01</td>\n",
              "      <td>NaN</td>\n",
              "      <td>NaN</td>\n",
              "      <td>Colombo</td>\n",
              "      <td>Sri Lanka</td>\n",
              "    </tr>\n",
              "    <tr>\n",
              "      <th>2612</th>\n",
              "      <td>2013-09-01</td>\n",
              "      <td>NaN</td>\n",
              "      <td>NaN</td>\n",
              "      <td>Colombo</td>\n",
              "      <td>Sri Lanka</td>\n",
              "    </tr>\n",
              "  </tbody>\n",
              "</table>\n",
              "<p>105 rows × 5 columns</p>\n",
              "</div>\n",
              "      <button class=\"colab-df-convert\" onclick=\"convertToInteractive('df-e68f4135-2033-4100-a776-15ae76eeea64')\"\n",
              "              title=\"Convert this dataframe to an interactive table.\"\n",
              "              style=\"display:none;\">\n",
              "        \n",
              "  <svg xmlns=\"http://www.w3.org/2000/svg\" height=\"24px\"viewBox=\"0 0 24 24\"\n",
              "       width=\"24px\">\n",
              "    <path d=\"M0 0h24v24H0V0z\" fill=\"none\"/>\n",
              "    <path d=\"M18.56 5.44l.94 2.06.94-2.06 2.06-.94-2.06-.94-.94-2.06-.94 2.06-2.06.94zm-11 1L8.5 8.5l.94-2.06 2.06-.94-2.06-.94L8.5 2.5l-.94 2.06-2.06.94zm10 10l.94 2.06.94-2.06 2.06-.94-2.06-.94-.94-2.06-.94 2.06-2.06.94z\"/><path d=\"M17.41 7.96l-1.37-1.37c-.4-.4-.92-.59-1.43-.59-.52 0-1.04.2-1.43.59L10.3 9.45l-7.72 7.72c-.78.78-.78 2.05 0 2.83L4 21.41c.39.39.9.59 1.41.59.51 0 1.02-.2 1.41-.59l7.78-7.78 2.81-2.81c.8-.78.8-2.07 0-2.86zM5.41 20L4 18.59l7.72-7.72 1.47 1.35L5.41 20z\"/>\n",
              "  </svg>\n",
              "      </button>\n",
              "      \n",
              "  <style>\n",
              "    .colab-df-container {\n",
              "      display:flex;\n",
              "      flex-wrap:wrap;\n",
              "      gap: 12px;\n",
              "    }\n",
              "\n",
              "    .colab-df-convert {\n",
              "      background-color: #E8F0FE;\n",
              "      border: none;\n",
              "      border-radius: 50%;\n",
              "      cursor: pointer;\n",
              "      display: none;\n",
              "      fill: #1967D2;\n",
              "      height: 32px;\n",
              "      padding: 0 0 0 0;\n",
              "      width: 32px;\n",
              "    }\n",
              "\n",
              "    .colab-df-convert:hover {\n",
              "      background-color: #E2EBFA;\n",
              "      box-shadow: 0px 1px 2px rgba(60, 64, 67, 0.3), 0px 1px 3px 1px rgba(60, 64, 67, 0.15);\n",
              "      fill: #174EA6;\n",
              "    }\n",
              "\n",
              "    [theme=dark] .colab-df-convert {\n",
              "      background-color: #3B4455;\n",
              "      fill: #D2E3FC;\n",
              "    }\n",
              "\n",
              "    [theme=dark] .colab-df-convert:hover {\n",
              "      background-color: #434B5C;\n",
              "      box-shadow: 0px 1px 3px 1px rgba(0, 0, 0, 0.15);\n",
              "      filter: drop-shadow(0px 1px 2px rgba(0, 0, 0, 0.3));\n",
              "      fill: #FFFFFF;\n",
              "    }\n",
              "  </style>\n",
              "\n",
              "      <script>\n",
              "        const buttonEl =\n",
              "          document.querySelector('#df-e68f4135-2033-4100-a776-15ae76eeea64 button.colab-df-convert');\n",
              "        buttonEl.style.display =\n",
              "          google.colab.kernel.accessAllowed ? 'block' : 'none';\n",
              "\n",
              "        async function convertToInteractive(key) {\n",
              "          const element = document.querySelector('#df-e68f4135-2033-4100-a776-15ae76eeea64');\n",
              "          const dataTable =\n",
              "            await google.colab.kernel.invokeFunction('convertToInteractive',\n",
              "                                                     [key], {});\n",
              "          if (!dataTable) return;\n",
              "\n",
              "          const docLinkHtml = 'Like what you see? Visit the ' +\n",
              "            '<a target=\"_blank\" href=https://colab.research.google.com/notebooks/data_table.ipynb>data table notebook</a>'\n",
              "            + ' to learn more about interactive tables.';\n",
              "          element.innerHTML = '';\n",
              "          dataTable['output_type'] = 'display_data';\n",
              "          await google.colab.output.renderOutput(dataTable, element);\n",
              "          const docLink = document.createElement('div');\n",
              "          docLink.innerHTML = docLinkHtml;\n",
              "          element.appendChild(docLink);\n",
              "        }\n",
              "      </script>\n",
              "    </div>\n",
              "  </div>\n",
              "  "
            ]
          },
          "metadata": {},
          "execution_count": 10
        }
      ]
    },
    {
      "cell_type": "code",
      "source": [
        "monthly_temp_avg_list = list()\n",
        "\n",
        "for i in range(12):\n",
        "  m_avg = temp[pd.DatetimeIndex(temp.dt).month == (i+1)].mean(numeric_only=True)\n",
        "  m_avg_tuple = (m_avg[0], m_avg[1])\n",
        "  monthly_temp_avg_list.append(m_avg_tuple)\n",
        "\n",
        "monthly_temp_avg_list"
      ],
      "metadata": {
        "colab": {
          "base_uri": "https://localhost:8080/"
        },
        "id": "Mov3xLZuEKWc",
        "outputId": "28a19043-4aea-423e-9460-c9bc194f8171"
      },
      "execution_count": 11,
      "outputs": [
        {
          "output_type": "execute_result",
          "data": {
            "text/plain": [
              "[(24.19209523809525, 1.1201),\n",
              " (24.039885714285724, 1.04145238095238),\n",
              " (25.673476190476183, 1.0312190476190481),\n",
              " (27.413801932367146, 0.9722125603864734),\n",
              " (28.902565217391288, 0.8509420289855072),\n",
              " (28.271755980861236, 0.8784976076555028),\n",
              " (27.078728571428556, 0.8288857142857143),\n",
              " (26.61944761904763, 0.7725952380952382),\n",
              " (26.861770334928227, 0.7577942583732057),\n",
              " (27.69363157894736, 0.8915502392344496),\n",
              " (27.306114832535897, 1.0404258373205744),\n",
              " (25.574889423076918, 1.0955769230769226)]"
            ]
          },
          "metadata": {},
          "execution_count": 11
        }
      ]
    },
    {
      "cell_type": "code",
      "source": [
        "for i in range(12):\n",
        "  temp.loc[(temp.AverageTemperature.isna()) & (pd.DatetimeIndex(temp.dt).month==(i+1)), \"AverageTemperature\"] = monthly_temp_avg_list[(i)][0]\n",
        "  temp.loc[(temp.AverageTemperatureUncertainty.isna()) & (pd.DatetimeIndex(temp.dt).month==(i+1)), \"AverageTemperatureUncertainty\"] = monthly_temp_avg_list[(i)][1]\n",
        "temp.isnull().sum()"
      ],
      "metadata": {
        "colab": {
          "base_uri": "https://localhost:8080/"
        },
        "id": "5HmkeIqTFBu9",
        "outputId": "37671a8b-dde3-40d8-8aec-cf63b7f0db27"
      },
      "execution_count": 12,
      "outputs": [
        {
          "output_type": "execute_result",
          "data": {
            "text/plain": [
              "dt                               0\n",
              "AverageTemperature               0\n",
              "AverageTemperatureUncertainty    0\n",
              "City                             0\n",
              "Country                          0\n",
              "dtype: int64"
            ]
          },
          "metadata": {},
          "execution_count": 12
        }
      ]
    },
    {
      "cell_type": "code",
      "source": [
        "# All null values were filled using the average monthly value for all years in the total dataset\n",
        "temp"
      ],
      "metadata": {
        "colab": {
          "base_uri": "https://localhost:8080/",
          "height": 423
        },
        "id": "SFCgamV4juGA",
        "outputId": "6091895b-4ebc-41ae-eb24-d884d1081852"
      },
      "execution_count": 13,
      "outputs": [
        {
          "output_type": "execute_result",
          "data": {
            "text/plain": [
              "             dt  AverageTemperature  AverageTemperatureUncertainty     City  \\\n",
              "0    1796-01-01            24.31700                       2.190000  Colombo   \n",
              "1    1796-02-01            23.92300                       1.484000  Colombo   \n",
              "2    1796-03-01            24.40700                       2.309000  Colombo   \n",
              "3    1796-04-01            27.17100                       1.650000  Colombo   \n",
              "4    1796-05-01            29.05000                       1.290000  Colombo   \n",
              "...         ...                 ...                            ...      ...   \n",
              "2608 2013-05-01            29.71800                       0.574000  Colombo   \n",
              "2609 2013-06-01            27.68600                       0.260000  Colombo   \n",
              "2610 2013-07-01            26.51900                       0.177000  Colombo   \n",
              "2611 2013-08-01            26.95300                       0.390000  Colombo   \n",
              "2612 2013-09-01            26.86177                       0.757794  Colombo   \n",
              "\n",
              "        Country  \n",
              "0     Sri Lanka  \n",
              "1     Sri Lanka  \n",
              "2     Sri Lanka  \n",
              "3     Sri Lanka  \n",
              "4     Sri Lanka  \n",
              "...         ...  \n",
              "2608  Sri Lanka  \n",
              "2609  Sri Lanka  \n",
              "2610  Sri Lanka  \n",
              "2611  Sri Lanka  \n",
              "2612  Sri Lanka  \n",
              "\n",
              "[2613 rows x 5 columns]"
            ],
            "text/html": [
              "\n",
              "  <div id=\"df-3e1e749f-0f43-49ff-8f50-170601c223d3\">\n",
              "    <div class=\"colab-df-container\">\n",
              "      <div>\n",
              "<style scoped>\n",
              "    .dataframe tbody tr th:only-of-type {\n",
              "        vertical-align: middle;\n",
              "    }\n",
              "\n",
              "    .dataframe tbody tr th {\n",
              "        vertical-align: top;\n",
              "    }\n",
              "\n",
              "    .dataframe thead th {\n",
              "        text-align: right;\n",
              "    }\n",
              "</style>\n",
              "<table border=\"1\" class=\"dataframe\">\n",
              "  <thead>\n",
              "    <tr style=\"text-align: right;\">\n",
              "      <th></th>\n",
              "      <th>dt</th>\n",
              "      <th>AverageTemperature</th>\n",
              "      <th>AverageTemperatureUncertainty</th>\n",
              "      <th>City</th>\n",
              "      <th>Country</th>\n",
              "    </tr>\n",
              "  </thead>\n",
              "  <tbody>\n",
              "    <tr>\n",
              "      <th>0</th>\n",
              "      <td>1796-01-01</td>\n",
              "      <td>24.31700</td>\n",
              "      <td>2.190000</td>\n",
              "      <td>Colombo</td>\n",
              "      <td>Sri Lanka</td>\n",
              "    </tr>\n",
              "    <tr>\n",
              "      <th>1</th>\n",
              "      <td>1796-02-01</td>\n",
              "      <td>23.92300</td>\n",
              "      <td>1.484000</td>\n",
              "      <td>Colombo</td>\n",
              "      <td>Sri Lanka</td>\n",
              "    </tr>\n",
              "    <tr>\n",
              "      <th>2</th>\n",
              "      <td>1796-03-01</td>\n",
              "      <td>24.40700</td>\n",
              "      <td>2.309000</td>\n",
              "      <td>Colombo</td>\n",
              "      <td>Sri Lanka</td>\n",
              "    </tr>\n",
              "    <tr>\n",
              "      <th>3</th>\n",
              "      <td>1796-04-01</td>\n",
              "      <td>27.17100</td>\n",
              "      <td>1.650000</td>\n",
              "      <td>Colombo</td>\n",
              "      <td>Sri Lanka</td>\n",
              "    </tr>\n",
              "    <tr>\n",
              "      <th>4</th>\n",
              "      <td>1796-05-01</td>\n",
              "      <td>29.05000</td>\n",
              "      <td>1.290000</td>\n",
              "      <td>Colombo</td>\n",
              "      <td>Sri Lanka</td>\n",
              "    </tr>\n",
              "    <tr>\n",
              "      <th>...</th>\n",
              "      <td>...</td>\n",
              "      <td>...</td>\n",
              "      <td>...</td>\n",
              "      <td>...</td>\n",
              "      <td>...</td>\n",
              "    </tr>\n",
              "    <tr>\n",
              "      <th>2608</th>\n",
              "      <td>2013-05-01</td>\n",
              "      <td>29.71800</td>\n",
              "      <td>0.574000</td>\n",
              "      <td>Colombo</td>\n",
              "      <td>Sri Lanka</td>\n",
              "    </tr>\n",
              "    <tr>\n",
              "      <th>2609</th>\n",
              "      <td>2013-06-01</td>\n",
              "      <td>27.68600</td>\n",
              "      <td>0.260000</td>\n",
              "      <td>Colombo</td>\n",
              "      <td>Sri Lanka</td>\n",
              "    </tr>\n",
              "    <tr>\n",
              "      <th>2610</th>\n",
              "      <td>2013-07-01</td>\n",
              "      <td>26.51900</td>\n",
              "      <td>0.177000</td>\n",
              "      <td>Colombo</td>\n",
              "      <td>Sri Lanka</td>\n",
              "    </tr>\n",
              "    <tr>\n",
              "      <th>2611</th>\n",
              "      <td>2013-08-01</td>\n",
              "      <td>26.95300</td>\n",
              "      <td>0.390000</td>\n",
              "      <td>Colombo</td>\n",
              "      <td>Sri Lanka</td>\n",
              "    </tr>\n",
              "    <tr>\n",
              "      <th>2612</th>\n",
              "      <td>2013-09-01</td>\n",
              "      <td>26.86177</td>\n",
              "      <td>0.757794</td>\n",
              "      <td>Colombo</td>\n",
              "      <td>Sri Lanka</td>\n",
              "    </tr>\n",
              "  </tbody>\n",
              "</table>\n",
              "<p>2613 rows × 5 columns</p>\n",
              "</div>\n",
              "      <button class=\"colab-df-convert\" onclick=\"convertToInteractive('df-3e1e749f-0f43-49ff-8f50-170601c223d3')\"\n",
              "              title=\"Convert this dataframe to an interactive table.\"\n",
              "              style=\"display:none;\">\n",
              "        \n",
              "  <svg xmlns=\"http://www.w3.org/2000/svg\" height=\"24px\"viewBox=\"0 0 24 24\"\n",
              "       width=\"24px\">\n",
              "    <path d=\"M0 0h24v24H0V0z\" fill=\"none\"/>\n",
              "    <path d=\"M18.56 5.44l.94 2.06.94-2.06 2.06-.94-2.06-.94-.94-2.06-.94 2.06-2.06.94zm-11 1L8.5 8.5l.94-2.06 2.06-.94-2.06-.94L8.5 2.5l-.94 2.06-2.06.94zm10 10l.94 2.06.94-2.06 2.06-.94-2.06-.94-.94-2.06-.94 2.06-2.06.94z\"/><path d=\"M17.41 7.96l-1.37-1.37c-.4-.4-.92-.59-1.43-.59-.52 0-1.04.2-1.43.59L10.3 9.45l-7.72 7.72c-.78.78-.78 2.05 0 2.83L4 21.41c.39.39.9.59 1.41.59.51 0 1.02-.2 1.41-.59l7.78-7.78 2.81-2.81c.8-.78.8-2.07 0-2.86zM5.41 20L4 18.59l7.72-7.72 1.47 1.35L5.41 20z\"/>\n",
              "  </svg>\n",
              "      </button>\n",
              "      \n",
              "  <style>\n",
              "    .colab-df-container {\n",
              "      display:flex;\n",
              "      flex-wrap:wrap;\n",
              "      gap: 12px;\n",
              "    }\n",
              "\n",
              "    .colab-df-convert {\n",
              "      background-color: #E8F0FE;\n",
              "      border: none;\n",
              "      border-radius: 50%;\n",
              "      cursor: pointer;\n",
              "      display: none;\n",
              "      fill: #1967D2;\n",
              "      height: 32px;\n",
              "      padding: 0 0 0 0;\n",
              "      width: 32px;\n",
              "    }\n",
              "\n",
              "    .colab-df-convert:hover {\n",
              "      background-color: #E2EBFA;\n",
              "      box-shadow: 0px 1px 2px rgba(60, 64, 67, 0.3), 0px 1px 3px 1px rgba(60, 64, 67, 0.15);\n",
              "      fill: #174EA6;\n",
              "    }\n",
              "\n",
              "    [theme=dark] .colab-df-convert {\n",
              "      background-color: #3B4455;\n",
              "      fill: #D2E3FC;\n",
              "    }\n",
              "\n",
              "    [theme=dark] .colab-df-convert:hover {\n",
              "      background-color: #434B5C;\n",
              "      box-shadow: 0px 1px 3px 1px rgba(0, 0, 0, 0.15);\n",
              "      filter: drop-shadow(0px 1px 2px rgba(0, 0, 0, 0.3));\n",
              "      fill: #FFFFFF;\n",
              "    }\n",
              "  </style>\n",
              "\n",
              "      <script>\n",
              "        const buttonEl =\n",
              "          document.querySelector('#df-3e1e749f-0f43-49ff-8f50-170601c223d3 button.colab-df-convert');\n",
              "        buttonEl.style.display =\n",
              "          google.colab.kernel.accessAllowed ? 'block' : 'none';\n",
              "\n",
              "        async function convertToInteractive(key) {\n",
              "          const element = document.querySelector('#df-3e1e749f-0f43-49ff-8f50-170601c223d3');\n",
              "          const dataTable =\n",
              "            await google.colab.kernel.invokeFunction('convertToInteractive',\n",
              "                                                     [key], {});\n",
              "          if (!dataTable) return;\n",
              "\n",
              "          const docLinkHtml = 'Like what you see? Visit the ' +\n",
              "            '<a target=\"_blank\" href=https://colab.research.google.com/notebooks/data_table.ipynb>data table notebook</a>'\n",
              "            + ' to learn more about interactive tables.';\n",
              "          element.innerHTML = '';\n",
              "          dataTable['output_type'] = 'display_data';\n",
              "          await google.colab.output.renderOutput(dataTable, element);\n",
              "          const docLink = document.createElement('div');\n",
              "          docLink.innerHTML = docLinkHtml;\n",
              "          element.appendChild(docLink);\n",
              "        }\n",
              "      </script>\n",
              "    </div>\n",
              "  </div>\n",
              "  "
            ]
          },
          "metadata": {},
          "execution_count": 13
        }
      ]
    },
    {
      "cell_type": "code",
      "source": [
        "temp_df = temp.copy()\n",
        "temp_df.set_index(temp_df.dt, inplace=True)\n",
        "temp_df = temp_df.drop(columns=['dt'])\n",
        "temp_df"
      ],
      "metadata": {
        "colab": {
          "base_uri": "https://localhost:8080/",
          "height": 455
        },
        "id": "UzySb3eyraBy",
        "outputId": "fc5af6d4-f33f-4cfa-9988-2e4d3e445d22"
      },
      "execution_count": 14,
      "outputs": [
        {
          "output_type": "execute_result",
          "data": {
            "text/plain": [
              "            AverageTemperature  AverageTemperatureUncertainty     City  \\\n",
              "dt                                                                       \n",
              "1796-01-01            24.31700                       2.190000  Colombo   \n",
              "1796-02-01            23.92300                       1.484000  Colombo   \n",
              "1796-03-01            24.40700                       2.309000  Colombo   \n",
              "1796-04-01            27.17100                       1.650000  Colombo   \n",
              "1796-05-01            29.05000                       1.290000  Colombo   \n",
              "...                        ...                            ...      ...   \n",
              "2013-05-01            29.71800                       0.574000  Colombo   \n",
              "2013-06-01            27.68600                       0.260000  Colombo   \n",
              "2013-07-01            26.51900                       0.177000  Colombo   \n",
              "2013-08-01            26.95300                       0.390000  Colombo   \n",
              "2013-09-01            26.86177                       0.757794  Colombo   \n",
              "\n",
              "              Country  \n",
              "dt                     \n",
              "1796-01-01  Sri Lanka  \n",
              "1796-02-01  Sri Lanka  \n",
              "1796-03-01  Sri Lanka  \n",
              "1796-04-01  Sri Lanka  \n",
              "1796-05-01  Sri Lanka  \n",
              "...               ...  \n",
              "2013-05-01  Sri Lanka  \n",
              "2013-06-01  Sri Lanka  \n",
              "2013-07-01  Sri Lanka  \n",
              "2013-08-01  Sri Lanka  \n",
              "2013-09-01  Sri Lanka  \n",
              "\n",
              "[2613 rows x 4 columns]"
            ],
            "text/html": [
              "\n",
              "  <div id=\"df-d51cfb58-f8f0-4699-a73c-d021bd6bb64f\">\n",
              "    <div class=\"colab-df-container\">\n",
              "      <div>\n",
              "<style scoped>\n",
              "    .dataframe tbody tr th:only-of-type {\n",
              "        vertical-align: middle;\n",
              "    }\n",
              "\n",
              "    .dataframe tbody tr th {\n",
              "        vertical-align: top;\n",
              "    }\n",
              "\n",
              "    .dataframe thead th {\n",
              "        text-align: right;\n",
              "    }\n",
              "</style>\n",
              "<table border=\"1\" class=\"dataframe\">\n",
              "  <thead>\n",
              "    <tr style=\"text-align: right;\">\n",
              "      <th></th>\n",
              "      <th>AverageTemperature</th>\n",
              "      <th>AverageTemperatureUncertainty</th>\n",
              "      <th>City</th>\n",
              "      <th>Country</th>\n",
              "    </tr>\n",
              "    <tr>\n",
              "      <th>dt</th>\n",
              "      <th></th>\n",
              "      <th></th>\n",
              "      <th></th>\n",
              "      <th></th>\n",
              "    </tr>\n",
              "  </thead>\n",
              "  <tbody>\n",
              "    <tr>\n",
              "      <th>1796-01-01</th>\n",
              "      <td>24.31700</td>\n",
              "      <td>2.190000</td>\n",
              "      <td>Colombo</td>\n",
              "      <td>Sri Lanka</td>\n",
              "    </tr>\n",
              "    <tr>\n",
              "      <th>1796-02-01</th>\n",
              "      <td>23.92300</td>\n",
              "      <td>1.484000</td>\n",
              "      <td>Colombo</td>\n",
              "      <td>Sri Lanka</td>\n",
              "    </tr>\n",
              "    <tr>\n",
              "      <th>1796-03-01</th>\n",
              "      <td>24.40700</td>\n",
              "      <td>2.309000</td>\n",
              "      <td>Colombo</td>\n",
              "      <td>Sri Lanka</td>\n",
              "    </tr>\n",
              "    <tr>\n",
              "      <th>1796-04-01</th>\n",
              "      <td>27.17100</td>\n",
              "      <td>1.650000</td>\n",
              "      <td>Colombo</td>\n",
              "      <td>Sri Lanka</td>\n",
              "    </tr>\n",
              "    <tr>\n",
              "      <th>1796-05-01</th>\n",
              "      <td>29.05000</td>\n",
              "      <td>1.290000</td>\n",
              "      <td>Colombo</td>\n",
              "      <td>Sri Lanka</td>\n",
              "    </tr>\n",
              "    <tr>\n",
              "      <th>...</th>\n",
              "      <td>...</td>\n",
              "      <td>...</td>\n",
              "      <td>...</td>\n",
              "      <td>...</td>\n",
              "    </tr>\n",
              "    <tr>\n",
              "      <th>2013-05-01</th>\n",
              "      <td>29.71800</td>\n",
              "      <td>0.574000</td>\n",
              "      <td>Colombo</td>\n",
              "      <td>Sri Lanka</td>\n",
              "    </tr>\n",
              "    <tr>\n",
              "      <th>2013-06-01</th>\n",
              "      <td>27.68600</td>\n",
              "      <td>0.260000</td>\n",
              "      <td>Colombo</td>\n",
              "      <td>Sri Lanka</td>\n",
              "    </tr>\n",
              "    <tr>\n",
              "      <th>2013-07-01</th>\n",
              "      <td>26.51900</td>\n",
              "      <td>0.177000</td>\n",
              "      <td>Colombo</td>\n",
              "      <td>Sri Lanka</td>\n",
              "    </tr>\n",
              "    <tr>\n",
              "      <th>2013-08-01</th>\n",
              "      <td>26.95300</td>\n",
              "      <td>0.390000</td>\n",
              "      <td>Colombo</td>\n",
              "      <td>Sri Lanka</td>\n",
              "    </tr>\n",
              "    <tr>\n",
              "      <th>2013-09-01</th>\n",
              "      <td>26.86177</td>\n",
              "      <td>0.757794</td>\n",
              "      <td>Colombo</td>\n",
              "      <td>Sri Lanka</td>\n",
              "    </tr>\n",
              "  </tbody>\n",
              "</table>\n",
              "<p>2613 rows × 4 columns</p>\n",
              "</div>\n",
              "      <button class=\"colab-df-convert\" onclick=\"convertToInteractive('df-d51cfb58-f8f0-4699-a73c-d021bd6bb64f')\"\n",
              "              title=\"Convert this dataframe to an interactive table.\"\n",
              "              style=\"display:none;\">\n",
              "        \n",
              "  <svg xmlns=\"http://www.w3.org/2000/svg\" height=\"24px\"viewBox=\"0 0 24 24\"\n",
              "       width=\"24px\">\n",
              "    <path d=\"M0 0h24v24H0V0z\" fill=\"none\"/>\n",
              "    <path d=\"M18.56 5.44l.94 2.06.94-2.06 2.06-.94-2.06-.94-.94-2.06-.94 2.06-2.06.94zm-11 1L8.5 8.5l.94-2.06 2.06-.94-2.06-.94L8.5 2.5l-.94 2.06-2.06.94zm10 10l.94 2.06.94-2.06 2.06-.94-2.06-.94-.94-2.06-.94 2.06-2.06.94z\"/><path d=\"M17.41 7.96l-1.37-1.37c-.4-.4-.92-.59-1.43-.59-.52 0-1.04.2-1.43.59L10.3 9.45l-7.72 7.72c-.78.78-.78 2.05 0 2.83L4 21.41c.39.39.9.59 1.41.59.51 0 1.02-.2 1.41-.59l7.78-7.78 2.81-2.81c.8-.78.8-2.07 0-2.86zM5.41 20L4 18.59l7.72-7.72 1.47 1.35L5.41 20z\"/>\n",
              "  </svg>\n",
              "      </button>\n",
              "      \n",
              "  <style>\n",
              "    .colab-df-container {\n",
              "      display:flex;\n",
              "      flex-wrap:wrap;\n",
              "      gap: 12px;\n",
              "    }\n",
              "\n",
              "    .colab-df-convert {\n",
              "      background-color: #E8F0FE;\n",
              "      border: none;\n",
              "      border-radius: 50%;\n",
              "      cursor: pointer;\n",
              "      display: none;\n",
              "      fill: #1967D2;\n",
              "      height: 32px;\n",
              "      padding: 0 0 0 0;\n",
              "      width: 32px;\n",
              "    }\n",
              "\n",
              "    .colab-df-convert:hover {\n",
              "      background-color: #E2EBFA;\n",
              "      box-shadow: 0px 1px 2px rgba(60, 64, 67, 0.3), 0px 1px 3px 1px rgba(60, 64, 67, 0.15);\n",
              "      fill: #174EA6;\n",
              "    }\n",
              "\n",
              "    [theme=dark] .colab-df-convert {\n",
              "      background-color: #3B4455;\n",
              "      fill: #D2E3FC;\n",
              "    }\n",
              "\n",
              "    [theme=dark] .colab-df-convert:hover {\n",
              "      background-color: #434B5C;\n",
              "      box-shadow: 0px 1px 3px 1px rgba(0, 0, 0, 0.15);\n",
              "      filter: drop-shadow(0px 1px 2px rgba(0, 0, 0, 0.3));\n",
              "      fill: #FFFFFF;\n",
              "    }\n",
              "  </style>\n",
              "\n",
              "      <script>\n",
              "        const buttonEl =\n",
              "          document.querySelector('#df-d51cfb58-f8f0-4699-a73c-d021bd6bb64f button.colab-df-convert');\n",
              "        buttonEl.style.display =\n",
              "          google.colab.kernel.accessAllowed ? 'block' : 'none';\n",
              "\n",
              "        async function convertToInteractive(key) {\n",
              "          const element = document.querySelector('#df-d51cfb58-f8f0-4699-a73c-d021bd6bb64f');\n",
              "          const dataTable =\n",
              "            await google.colab.kernel.invokeFunction('convertToInteractive',\n",
              "                                                     [key], {});\n",
              "          if (!dataTable) return;\n",
              "\n",
              "          const docLinkHtml = 'Like what you see? Visit the ' +\n",
              "            '<a target=\"_blank\" href=https://colab.research.google.com/notebooks/data_table.ipynb>data table notebook</a>'\n",
              "            + ' to learn more about interactive tables.';\n",
              "          element.innerHTML = '';\n",
              "          dataTable['output_type'] = 'display_data';\n",
              "          await google.colab.output.renderOutput(dataTable, element);\n",
              "          const docLink = document.createElement('div');\n",
              "          docLink.innerHTML = docLinkHtml;\n",
              "          element.appendChild(docLink);\n",
              "        }\n",
              "      </script>\n",
              "    </div>\n",
              "  </div>\n",
              "  "
            ]
          },
          "metadata": {},
          "execution_count": 14
        }
      ]
    },
    {
      "cell_type": "code",
      "source": [
        "# check if data is stationary by plotting\n",
        "temp_df.AverageTemperature.plot()\n",
        "plt.show()"
      ],
      "metadata": {
        "colab": {
          "base_uri": "https://localhost:8080/",
          "height": 279
        },
        "id": "_KTpFZVqsB6w",
        "outputId": "d645b092-c0b9-458b-c4c0-ed11feaec542"
      },
      "execution_count": 15,
      "outputs": [
        {
          "output_type": "display_data",
          "data": {
            "text/plain": [
              "<Figure size 432x288 with 1 Axes>"
            ],
            "image/png": "[encoded data removed]"
          },
          "metadata": {
            "needs_background": "light"
          }
        }
      ]
    },
    {
      "cell_type": "code",
      "source": [
        "# check if data has a bell curve (normal dist)\n",
        "temp_df.AverageTemperature.hist()\n",
        "plt.show()"
      ],
      "metadata": {
        "colab": {
          "base_uri": "https://localhost:8080/",
          "height": 265
        },
        "id": "VbwOPpZsY6cf",
        "outputId": "d1d7fead-c168-4bed-8733-d9109caec1d6"
      },
      "execution_count": 16,
      "outputs": [
        {
          "output_type": "display_data",
          "data": {
            "text/plain": [
              "<Figure size 432x288 with 1 Axes>"
            ],
            "image/png": "[encoded data removed]"
          },
          "metadata": {
            "needs_background": "light"
          }
        }
      ]
    },
    {
      "cell_type": "code",
      "source": [
        "# See if two parts of the same dataset has the same mean and varience. if different => non stationary, if almost similar => data is stationary\n",
        "vals = temp_df.AverageTemperature.values\n",
        "split = int(len(vals) / 2)\n",
        "print('split = ', split)\n",
        "\n",
        "vals1, vals2 = vals[0:split], vals[split:]\n",
        "mean1, mean2 = vals1.mean(), vals2.mean()\n",
        "var1, var2 = vals1.var(), vals2.var()\n",
        "print('mean1=%f, mean2=%f' % (mean1, mean2))\n",
        "print('variance1=%f, variance2=%f' % (var1, var2))"
      ],
      "metadata": {
        "colab": {
          "base_uri": "https://localhost:8080/"
        },
        "id": "qd3sIVBnshbi",
        "outputId": "445bacc3-5fed-4f52-ead9-44ce9b45ef25"
      },
      "execution_count": 17,
      "outputs": [
        {
          "output_type": "stream",
          "name": "stdout",
          "text": [
            "split =  1306\n",
            "mean1=26.374018, mean2=26.896632\n",
            "variance1=2.493149, variance2=2.506570\n"
          ]
        }
      ]
    },
    {
      "cell_type": "code",
      "source": [
        "# ADF test suggests that data is stationary. (P value <= 0.05)\n",
        "from statsmodels.tsa.stattools import adfuller\n",
        "vals = temp_df.AverageTemperature.values\n",
        "result = adfuller(vals)\n",
        "print('ADF Statistic: %f' % result[0])\n",
        "print('p-value: %f' % result[1])\n",
        "print('Critical Values:')\n",
        "for key, value in result[4].items():\n",
        "\tprint('\\t%s: %.3f' % (key, value))"
      ],
      "metadata": {
        "colab": {
          "base_uri": "https://localhost:8080/"
        },
        "id": "XDwQuZI5tyCF",
        "outputId": "5e569b92-ed9b-4803-ec9a-e80088a1f03d"
      },
      "execution_count": 18,
      "outputs": [
        {
          "output_type": "stream",
          "name": "stdout",
          "text": [
            "ADF Statistic: -4.155408\n",
            "p-value: 0.000783\n",
            "Critical Values:\n",
            "\t1%: -3.433\n",
            "\t5%: -2.863\n",
            "\t10%: -2.567\n"
          ]
        }
      ]
    },
    {
      "cell_type": "code",
      "source": [
        "# ADF test suggests that data is non-stationary. (NOTE: this step is the same as above)\n",
        "from statsmodels.tsa.stattools import adfuller, acf, pacf\n",
        "vals = temp_df.AverageTemperature.values\n",
        "dftest = adfuller(vals, autolag=\"AIC\")\n",
        "dfoutput = pd.Series(dftest[0:4], index=[\"Test Stats\", \"p-value\", \"# Lags\", \"# of obs\"])\n",
        "for key, value in dftest[4].items():\n",
        "    dfoutput[f\"Critical Value ({key})\"] = value\n",
        "print(dfoutput)"
      ],
      "metadata": {
        "colab": {
          "base_uri": "https://localhost:8080/"
        },
        "id": "zcBHKsu5ui3z",
        "outputId": "a09e7ad1-9688-4367-f9a3-829a4ae5928c"
      },
      "execution_count": 19,
      "outputs": [
        {
          "output_type": "stream",
          "name": "stdout",
          "text": [
            "Test Stats                -4.155408\n",
            "p-value                    0.000783\n",
            "# Lags                    28.000000\n",
            "# of obs                2584.000000\n",
            "Critical Value (1%)       -3.432883\n",
            "Critical Value (5%)       -2.862659\n",
            "Critical Value (10%)      -2.567366\n",
            "dtype: float64\n"
          ]
        }
      ]
    },
    {
      "cell_type": "code",
      "source": [
        "from pmdarima.arima import ADFTest\n",
        "\n",
        "adf_test=ADFTest(alpha=0.05)\n",
        "adf_test.should_diff(temp_df.AverageTemperature)"
      ],
      "metadata": {
        "colab": {
          "base_uri": "https://localhost:8080/"
        },
        "id": "wvtCUOQ6ihul",
        "outputId": "f5df3dd6-b169-48d9-cd6d-c791c3e2a351"
      },
      "execution_count": 20,
      "outputs": [
        {
          "output_type": "execute_result",
          "data": {
            "text/plain": [
              "(0.01, False)"
            ]
          },
          "metadata": {},
          "execution_count": 20
        }
      ]
    },
    {
      "cell_type": "code",
      "source": [
        "from statsmodels.graphics.tsaplots import plot_acf, plot_pacf\n",
        "plot_acf(temp_df.AverageTemperature);\n",
        "plot_pacf(temp_df.AverageTemperature, method='ywm');"
      ],
      "metadata": {
        "colab": {
          "base_uri": "https://localhost:8080/",
          "height": 545
        },
        "id": "g2J3mBCC7ZCV",
        "outputId": "7578baa1-e95e-449a-c0dc-48f4f6359754"
      },
      "execution_count": 21,
      "outputs": [
        {
          "output_type": "display_data",
          "data": {
            "text/plain": [
              "<Figure size 432x288 with 1 Axes>"
            ],
            "image/png": "[encoded data removed]"
          },
          "metadata": {
            "needs_background": "light"
          }
        },
        {
          "output_type": "display_data",
          "data": {
            "text/plain": [
              "<Figure size 432x288 with 1 Axes>"
            ],
            "image/png": "[encoded data removed]"
          },
          "metadata": {
            "needs_background": "light"
          }
        }
      ]
    },
    {
      "cell_type": "code",
      "source": [
        "# Identifying freq, m by looking at few years of temp. data, m=12\n",
        "temp_df.AverageTemperature[-45:-9].plot()\n",
        "plt.show()"
      ],
      "metadata": {
        "colab": {
          "base_uri": "https://localhost:8080/",
          "height": 294
        },
        "id": "QRyzLnJTz_q2",
        "outputId": "67c9f558-a3eb-430d-f513-42dbfe3b43d8"
      },
      "execution_count": 22,
      "outputs": [
        {
          "output_type": "display_data",
          "data": {
            "text/plain": [
              "<Figure size 432x288 with 1 Axes>"
            ],
            "image/png": "[encoded data removed]"
          },
          "metadata": {
            "needs_background": "light"
          }
        }
      ]
    },
    {
      "cell_type": "markdown",
      "source": [
        "# Applying ARIMA [Original Dataset]"
      ],
      "metadata": {
        "id": "CK5bT3y9h_kd"
      }
    },
    {
      "cell_type": "code",
      "source": [
        "# new test/train split 80/20\n",
        "test_split_size = int(temp_df.shape[0]*0.2)\n",
        "train_split_size = temp_df.shape[0] - test_split_size\n",
        "print(test_split_size, train_split_size, train_split_size+test_split_size, temp_df.shape[0])\n",
        "\n",
        "train_split = temp_df[:train_split_size]\n",
        "test_split = temp_df[train_split_size:]\n",
        "print(train_split.AverageTemperature.head(), test_split.AverageTemperature.head())"
      ],
      "metadata": {
        "colab": {
          "base_uri": "https://localhost:8080/"
        },
        "id": "w83N9x1XiZ8X",
        "outputId": "69c10362-cdf5-45f8-efc4-2a0bd174bde8"
      },
      "execution_count": 23,
      "outputs": [
        {
          "output_type": "stream",
          "name": "stdout",
          "text": [
            "522 2091 2613 2613\n",
            "dt\n",
            "1796-01-01    24.317\n",
            "1796-02-01    23.923\n",
            "1796-03-01    24.407\n",
            "1796-04-01    27.171\n",
            "1796-05-01    29.050\n",
            "Name: AverageTemperature, dtype: float64 dt\n",
            "1970-04-01    27.835\n",
            "1970-05-01    29.348\n",
            "1970-06-01    27.870\n",
            "1970-07-01    27.384\n",
            "1970-08-01    26.703\n",
            "Name: AverageTemperature, dtype: float64\n"
          ]
        }
      ]
    },
    {
      "cell_type": "code",
      "source": [
        "temp_df.AverageTemperature.plot()\n",
        "plt.show()\n",
        "\n",
        "plt.plot(train_split.AverageTemperature, c='blue')\n",
        "plt.plot(test_split.AverageTemperature, c='green')\n",
        "plt.show()"
      ],
      "metadata": {
        "colab": {
          "base_uri": "https://localhost:8080/",
          "height": 527
        },
        "id": "oUoM7PeliGGj",
        "outputId": "a324f5e8-3ff8-49a3-df69-a4ecb002d5e9"
      },
      "execution_count": 24,
      "outputs": [
        {
          "output_type": "display_data",
          "data": {
            "text/plain": [
              "<Figure size 432x288 with 1 Axes>"
            ],
            "image/png": "[encoded data removed]"
          },
          "metadata": {
            "needs_background": "light"
          }
        },
        {
          "output_type": "display_data",
          "data": {
            "text/plain": [
              "<Figure size 432x288 with 1 Axes>"
            ],
            "image/png": "[encoded data removed]"
          },
          "metadata": {
            "needs_background": "light"
          }
        }
      ]
    },
    {
      "cell_type": "code",
      "source": [
        "from statsmodels.tsa.arima.model import ARIMA\n",
        "\n",
        "statsmodels_arima_model = ARIMA(train_split.AverageTemperature, order=(4,1,3))\n",
        "statsmodels_arima_results = statsmodels_arima_model.fit()\n",
        "print(statsmodels_arima_results.summary())"
      ],
      "metadata": {
        "colab": {
          "base_uri": "https://localhost:8080/"
        },
        "id": "-nFDwDtDiGT7",
        "outputId": "8178f4e7-5342-4558-f17e-f75d5d4e9ee2"
      },
      "execution_count": 194,
      "outputs": [
        {
          "output_type": "stream",
          "name": "stdout",
          "text": [
            "                               SARIMAX Results                                \n",
            "==============================================================================\n",
            "Dep. Variable:     AverageTemperature   No. Observations:                 2091\n",
            "Model:                 ARIMA(4, 1, 3)   Log Likelihood               -2677.924\n",
            "Date:                Thu, 17 Mar 2022   AIC                           5371.848\n",
            "Time:                        19:16:57   BIC                           5417.008\n",
            "Sample:                    01-01-1796   HQIC                          5388.393\n",
            "                         - 03-01-1970                                         \n",
            "Covariance Type:                  opg                                         \n",
            "==============================================================================\n",
            "                 coef    std err          z      P>|z|      [0.025      0.975]\n",
            "------------------------------------------------------------------------------\n",
            "ar.L1          0.1265      0.060      2.100      0.036       0.008       0.245\n",
            "ar.L2         -0.0237      0.057     -0.418      0.676      -0.135       0.088\n",
            "ar.L3         -0.9750      0.057    -17.158      0.000      -1.086      -0.864\n",
            "ar.L4          0.1031      0.023      4.402      0.000       0.057       0.149\n",
            "ma.L1         -0.0057      0.057     -0.099      0.921      -0.118       0.107\n",
            "ma.L2          0.0416      0.056      0.743      0.458      -0.068       0.152\n",
            "ma.L3          0.9699      0.057     17.033      0.000       0.858       1.082\n",
            "sigma2         0.7807      0.025     31.459      0.000       0.732       0.829\n",
            "===================================================================================\n",
            "Ljung-Box (L1) (Q):                   0.20   Jarque-Bera (JB):                 7.98\n",
            "Prob(Q):                              0.65   Prob(JB):                         0.02\n",
            "Heteroskedasticity (H):               0.96   Skew:                             0.11\n",
            "Prob(H) (two-sided):                  0.62   Kurtosis:                         3.21\n",
            "===================================================================================\n",
            "\n",
            "Warnings:\n",
            "[1] Covariance matrix calculated using the outer product of gradients (complex-step).\n"
          ]
        }
      ]
    },
    {
      "cell_type": "code",
      "source": [
        "statsmodels_arima_predictions = statsmodels_arima_results.predict(start=test_split.index[0], end=test_split.index[-1])\n",
        "statsmodels_arima_predictions.columns = ['predicted_temp']\n",
        "plt.figure(figsize=(8,5))\n",
        "plt.plot(train_split.AverageTemperature,label=\"Training\")\n",
        "plt.plot(test_split.AverageTemperature,label=\"Test\")\n",
        "plt.plot(statsmodels_arima_predictions,label=\"Predicted\")\n",
        "plt.legend(loc = 'upper left')\n",
        "plt.savefig('SecondPrection.jpg')\n",
        "plt.show()"
      ],
      "metadata": {
        "colab": {
          "base_uri": "https://localhost:8080/",
          "height": 320
        },
        "id": "jcTuvU5IiGNP",
        "outputId": "c2fdb689-cc25-4e51-e167-77b479c90ed2"
      },
      "execution_count": 195,
      "outputs": [
        {
          "output_type": "display_data",
          "data": {
            "text/plain": [
              "<Figure size 576x360 with 1 Axes>"
            ],
            "image/png": "[encoded data removed]"
          },
          "metadata": {
            "needs_background": "light"
          }
        }
      ]
    },
    {
      "cell_type": "markdown",
      "source": [
        "Doesn't seem like a strong model. predictions are kind of moving around the average bug gradually decreases."
      ],
      "metadata": {
        "id": "EAcTrWLKSCYa"
      }
    },
    {
      "cell_type": "code",
      "source": [
        "import pmdarima as pm\n",
        "\n",
        "model = pm.auto_arima(train_split.AverageTemperature, \n",
        "                      start_p=0, \n",
        "                      start_q=0,\n",
        "                      test='adf',       # use adftest to find optimal 'd'\n",
        "                      max_p=4, \n",
        "                      max_q=4, # maximum p and q\n",
        "                      m=1,             # frequency of series\n",
        "                      d=None,           # let model determine 'd'\n",
        "                      seasonal=False,   # No Seasonality\n",
        "                      start_P=0, \n",
        "                      D=0, \n",
        "                      trace=True,\n",
        "                      error_action='ignore',  \n",
        "                      suppress_warnings=True, \n",
        "                      stepwise=True)\n",
        "print(model.summary())"
      ],
      "metadata": {
        "colab": {
          "base_uri": "https://localhost:8080/"
        },
        "id": "uqT8rf_FiF-9",
        "outputId": "337a1a98-078b-44d2-8797-f909446dce41"
      },
      "execution_count": 25,
      "outputs": [
        {
          "output_type": "stream",
          "name": "stdout",
          "text": [
            "Performing stepwise search to minimize aic\n",
            " ARIMA(0,0,0)(0,0,0)[0]             : AIC=19648.567, Time=0.09 sec\n",
            " ARIMA(1,0,0)(0,0,0)[0]             : AIC=inf, Time=0.06 sec\n",
            " ARIMA(0,0,1)(0,0,0)[0]             : AIC=16854.557, Time=0.31 sec\n",
            " ARIMA(1,0,1)(0,0,0)[0]             : AIC=6759.267, Time=0.14 sec\n",
            " ARIMA(2,0,1)(0,0,0)[0]             : AIC=6755.301, Time=0.67 sec\n",
            " ARIMA(2,0,0)(0,0,0)[0]             : AIC=inf, Time=0.13 sec\n",
            " ARIMA(3,0,1)(0,0,0)[0]             : AIC=5720.322, Time=1.86 sec\n",
            " ARIMA(3,0,0)(0,0,0)[0]             : AIC=inf, Time=0.19 sec\n",
            " ARIMA(4,0,1)(0,0,0)[0]             : AIC=6024.313, Time=1.33 sec\n",
            " ARIMA(3,0,2)(0,0,0)[0]             : AIC=inf, Time=2.39 sec\n",
            " ARIMA(2,0,2)(0,0,0)[0]             : AIC=inf, Time=2.46 sec\n",
            " ARIMA(4,0,0)(0,0,0)[0]             : AIC=inf, Time=0.28 sec\n",
            " ARIMA(4,0,2)(0,0,0)[0]             : AIC=inf, Time=3.84 sec\n",
            " ARIMA(3,0,1)(0,0,0)[0] intercept   : AIC=5715.665, Time=4.80 sec\n",
            " ARIMA(2,0,1)(0,0,0)[0] intercept   : AIC=5722.452, Time=2.91 sec\n",
            " ARIMA(3,0,0)(0,0,0)[0] intercept   : AIC=5715.774, Time=0.40 sec\n",
            " ARIMA(4,0,1)(0,0,0)[0] intercept   : AIC=5635.122, Time=3.79 sec\n",
            " ARIMA(4,0,0)(0,0,0)[0] intercept   : AIC=5633.375, Time=1.81 sec\n",
            "\n",
            "Best model:  ARIMA(4,0,0)(0,0,0)[0] intercept\n",
            "Total fit time: 27.500 seconds\n",
            "                               SARIMAX Results                                \n",
            "==============================================================================\n",
            "Dep. Variable:                      y   No. Observations:                 2091\n",
            "Model:               SARIMAX(4, 0, 0)   Log Likelihood               -2810.688\n",
            "Date:                Fri, 18 Mar 2022   AIC                           5633.375\n",
            "Time:                        04:29:15   BIC                           5667.248\n",
            "Sample:                             0   HQIC                          5645.785\n",
            "                               - 2091                                         \n",
            "Covariance Type:                  opg                                         \n",
            "==============================================================================\n",
            "                 coef    std err          z      P>|z|      [0.025      0.975]\n",
            "------------------------------------------------------------------------------\n",
            "intercept     12.6652      0.604     20.970      0.000      11.481      13.849\n",
            "ar.L1          1.0221      0.022     45.897      0.000       0.978       1.066\n",
            "ar.L2         -0.4091      0.031    -13.349      0.000      -0.469      -0.349\n",
            "ar.L3         -0.2903      0.029     -9.939      0.000      -0.348      -0.233\n",
            "ar.L4          0.1994      0.023      8.814      0.000       0.155       0.244\n",
            "sigma2         0.8603      0.026     32.473      0.000       0.808       0.912\n",
            "===================================================================================\n",
            "Ljung-Box (L1) (Q):                   0.09   Jarque-Bera (JB):                48.50\n",
            "Prob(Q):                              0.76   Prob(JB):                         0.00\n",
            "Heteroskedasticity (H):               0.96   Skew:                            -0.36\n",
            "Prob(H) (two-sided):                  0.63   Kurtosis:                         3.18\n",
            "===================================================================================\n",
            "\n",
            "Warnings:\n",
            "[1] Covariance matrix calculated using the outer product of gradients (complex-step).\n"
          ]
        }
      ]
    },
    {
      "cell_type": "code",
      "source": [
        "dates= pd.date_range(test_split.index[0],'2222-02-01' , freq='1M')-pd.offsets.MonthBegin(1)\n",
        "\n",
        "model_predictions = model.predict_in_sample(start=1, end=test_split_size+100+(12*200))\n",
        "model_predictions = pd.Series(model_predictions, index=dates)\n",
        "model_predictions\n",
        "model_predictions.columns = ['predicted_temp']\n",
        "plt.figure(figsize=(8,5))\n",
        "plt.plot(train_split.AverageTemperature,label=\"Training\")\n",
        "plt.plot(test_split.AverageTemperature,label=\"Test\")\n",
        "plt.plot(model_predictions,label=\"Predicted\")\n",
        "plt.legend(loc = 'upper left')\n",
        "plt.savefig('SecondPrection.jpg')\n",
        "plt.show()"
      ],
      "metadata": {
        "colab": {
          "base_uri": "https://localhost:8080/",
          "height": 320
        },
        "id": "FBq8TcBUiFz2",
        "outputId": "d1576ca2-6b3c-4906-e078-dffe3a93a4f2"
      },
      "execution_count": 26,
      "outputs": [
        {
          "output_type": "display_data",
          "data": {
            "text/plain": [
              "<Figure size 576x360 with 1 Axes>"
            ],
            "image/png": "[encoded data removed]"
          },
          "metadata": {
            "needs_background": "light"
          }
        }
      ]
    },
    {
      "cell_type": "code",
      "source": [
        "plt.plot(test_split.AverageTemperature,label=\"Test\")\n",
        "plt.plot(model_predictions,label=\"Predicted\")\n",
        "plt.legend(loc = 'upper left')\n",
        "plt.savefig('SecondPrection.jpg')\n",
        "plt.show()"
      ],
      "metadata": {
        "colab": {
          "base_uri": "https://localhost:8080/",
          "height": 265
        },
        "id": "QotKs3FzkyBp",
        "outputId": "2c14f553-7d37-4582-945c-93b94b3350af"
      },
      "execution_count": 27,
      "outputs": [
        {
          "output_type": "display_data",
          "data": {
            "text/plain": [
              "<Figure size 432x288 with 1 Axes>"
            ],
            "image/png": "[encoded data removed]"
          },
          "metadata": {
            "needs_background": "light"
          }
        }
      ]
    },
    {
      "cell_type": "code",
      "source": [
        "# # Generate index dates\n",
        "# dates= pd.date_range(test_split.index[-1],'2022-01-01' , freq='1M')-pd.offsets.MonthBegin(1)\n",
        "# len(dates)"
      ],
      "metadata": {
        "id": "9Jr-5avvIwBg"
      },
      "execution_count": 28,
      "outputs": []
    },
    {
      "cell_type": "code",
      "source": [
        "# High/Low marginals\n",
        "model_predictions = model.predict(n_periods=12, alpha=0.05, return_conf_int=True)\n",
        "pred_act = pd.Series(model_predictions[0])\n",
        "pred_df = pd.DataFrame(model_predictions[1].copy())\n",
        "plt.plot(pred_act)\n",
        "plt.plot(pred_df.loc[:][0], c=\"blue\")\n",
        "plt.plot(pred_df.loc[:][1], c=\"blue\")\n",
        "plt.show()"
      ],
      "metadata": {
        "colab": {
          "base_uri": "https://localhost:8080/",
          "height": 265
        },
        "id": "DsYHh6z3m7k6",
        "outputId": "6f765fa1-f522-40ea-a75b-392ca4dbfd30"
      },
      "execution_count": 29,
      "outputs": [
        {
          "output_type": "display_data",
          "data": {
            "text/plain": [
              "<Figure size 432x288 with 1 Axes>"
            ],
            "image/png": "[encoded data removed]"
          },
          "metadata": {
            "needs_background": "light"
          }
        }
      ]
    },
    {
      "cell_type": "code",
      "source": [
        "from pandas import datetime as dt\n",
        "now_d = dt.now().strftime(\"%Y-%m-%d\")"
      ],
      "metadata": {
        "colab": {
          "base_uri": "https://localhost:8080/"
        },
        "id": "xLeU6e4HQ9G6",
        "outputId": "8d72440f-ff2a-43c1-c7bc-0adf26dc73c6"
      },
      "execution_count": 30,
      "outputs": [
        {
          "output_type": "stream",
          "name": "stderr",
          "text": [
            "/usr/local/lib/python3.7/dist-packages/ipykernel_launcher.py:1: FutureWarning: The pandas.datetime class is deprecated and will be removed from pandas in a future version. Import from datetime module instead.\n",
            "  \"\"\"Entry point for launching an IPython kernel.\n"
          ]
        }
      ]
    },
    {
      "cell_type": "code",
      "source": [
        "dates= pd.date_range(test_split.index[0], now_d , freq='1M')-pd.offsets.MonthBegin(1)\n",
        "print(len(dates))\n",
        "\n",
        "model_predictions_out = model.predict(n_periods=len(dates), X=temp_df.AverageTemperature)\n",
        "print(len(model_predictions_out))\n",
        "model_predictions_out = pd.Series(model_predictions_out, index=dates)\n",
        "model_predictions_out\n",
        "model_predictions_out.columns = ['predicted_temp']\n",
        "plt.figure(figsize=(8,5))\n",
        "plt.plot(train_split.AverageTemperature,label=\"Training\")\n",
        "plt.plot(test_split.AverageTemperature,label=\"Test\")\n",
        "plt.plot(model_predictions_out,label=\"Predicted\")\n",
        "plt.legend(loc = 'upper left')\n",
        "plt.savefig('out_pred.jpg')\n",
        "plt.show()"
      ],
      "metadata": {
        "colab": {
          "base_uri": "https://localhost:8080/",
          "height": 356
        },
        "id": "u_32Yw8uUBGg",
        "outputId": "f1438e17-0267-4840-c1f3-1b9546ef3509"
      },
      "execution_count": 31,
      "outputs": [
        {
          "output_type": "stream",
          "name": "stdout",
          "text": [
            "623\n",
            "623\n"
          ]
        },
        {
          "output_type": "display_data",
          "data": {
            "text/plain": [
              "<Figure size 576x360 with 1 Axes>"
            ],
            "image/png": "[encoded data removed]"
          },
          "metadata": {
            "needs_background": "light"
          }
        }
      ]
    },
    {
      "cell_type": "markdown",
      "source": [
        "although in-sample predictions seems okay, actual forecasting is the average, and a straight line, which is not correct. Thus, this model is also not suitable."
      ],
      "metadata": {
        "id": "Ab-TuYRkSfIS"
      }
    },
    {
      "cell_type": "markdown",
      "source": [
        "# Considering Seasonality\n",
        "### Lets try with seasonality in place"
      ],
      "metadata": {
        "id": "MKWfC2bCYm4V"
      }
    },
    {
      "cell_type": "code",
      "source": [
        "temp_df2 = temp_df.AverageTemperature.copy()\n",
        "temp_df2"
      ],
      "metadata": {
        "colab": {
          "base_uri": "https://localhost:8080/"
        },
        "id": "mf5XfkBHYwmy",
        "outputId": "09cb62ac-77a2-4553-ddc0-460492164e84"
      },
      "execution_count": 32,
      "outputs": [
        {
          "output_type": "execute_result",
          "data": {
            "text/plain": [
              "dt\n",
              "1796-01-01    24.31700\n",
              "1796-02-01    23.92300\n",
              "1796-03-01    24.40700\n",
              "1796-04-01    27.17100\n",
              "1796-05-01    29.05000\n",
              "                ...   \n",
              "2013-05-01    29.71800\n",
              "2013-06-01    27.68600\n",
              "2013-07-01    26.51900\n",
              "2013-08-01    26.95300\n",
              "2013-09-01    26.86177\n",
              "Name: AverageTemperature, Length: 2613, dtype: float64"
            ]
          },
          "metadata": {},
          "execution_count": 32
        }
      ]
    },
    {
      "cell_type": "code",
      "source": [
        "import pmdarima as pm\n",
        "\n",
        "smodel = pm.auto_arima(temp_df2, \n",
        "                       start_p=0, start_q=0,\n",
        "                       test='adf',\n",
        "                       max_p=4, max_q=4, \n",
        "                       m=12,\n",
        "                       start_P=0, seasonal=True,\n",
        "                       d=None, D=1, trace=True,\n",
        "                       error_action='ignore',\n",
        "                       suppress_warnings=True,\n",
        "                       stepwise=True\n",
        "                       )\n",
        "\n",
        "smodel.summary()"
      ],
      "metadata": {
        "colab": {
          "base_uri": "https://localhost:8080/",
          "height": 714
        },
        "id": "lZ9kkKWtUT72",
        "outputId": "02cfb6a5-9493-4d08-ec7b-be43c5362e2e"
      },
      "execution_count": 33,
      "outputs": [
        {
          "output_type": "stream",
          "name": "stdout",
          "text": [
            "Performing stepwise search to minimize aic\n",
            " ARIMA(0,0,0)(0,1,1)[12] intercept   : AIC=4810.858, Time=7.97 sec\n",
            " ARIMA(0,0,0)(0,1,0)[12] intercept   : AIC=6116.075, Time=0.90 sec\n",
            " ARIMA(1,0,0)(1,1,0)[12] intercept   : AIC=5051.988, Time=4.08 sec\n",
            " ARIMA(0,0,1)(0,1,1)[12] intercept   : AIC=inf, Time=6.84 sec\n",
            " ARIMA(0,0,0)(0,1,0)[12]             : AIC=6114.105, Time=0.15 sec\n",
            " ARIMA(0,0,0)(1,1,1)[12] intercept   : AIC=inf, Time=7.27 sec\n",
            " ARIMA(0,0,0)(0,1,2)[12] intercept   : AIC=inf, Time=14.38 sec\n",
            " ARIMA(0,0,0)(1,1,0)[12] intercept   : AIC=5430.485, Time=2.94 sec\n",
            " ARIMA(0,0,0)(1,1,2)[12] intercept   : AIC=inf, Time=42.60 sec\n",
            " ARIMA(1,0,0)(0,1,1)[12] intercept   : AIC=inf, Time=8.29 sec\n",
            " ARIMA(1,0,1)(0,1,1)[12] intercept   : AIC=inf, Time=15.59 sec\n",
            " ARIMA(0,0,0)(0,1,1)[12]             : AIC=4813.047, Time=1.46 sec\n",
            "\n",
            "Best model:  ARIMA(0,0,0)(0,1,1)[12] intercept\n",
            "Total fit time: 112.499 seconds\n"
          ]
        },
        {
          "output_type": "execute_result",
          "data": {
            "text/plain": [
              "<class 'statsmodels.iolib.summary.Summary'>\n",
              "\"\"\"\n",
              "                                 SARIMAX Results                                  \n",
              "==================================================================================\n",
              "Dep. Variable:                          y   No. Observations:                 2613\n",
              "Model:             SARIMAX(0, 1, [1], 12)   Log Likelihood               -2402.429\n",
              "Date:                    Fri, 18 Mar 2022   AIC                           4810.858\n",
              "Time:                            04:34:22   BIC                           4828.449\n",
              "Sample:                                 0   HQIC                          4817.232\n",
              "                                   - 2613                                         \n",
              "Covariance Type:                      opg                                         \n",
              "==============================================================================\n",
              "                 coef    std err          z      P>|z|      [0.025      0.975]\n",
              "------------------------------------------------------------------------------\n",
              "intercept      0.0034      0.002      2.047      0.041       0.000       0.007\n",
              "ma.S.L12      -0.8681      0.009   -101.836      0.000      -0.885      -0.851\n",
              "sigma2         0.3690      0.009     43.131      0.000       0.352       0.386\n",
              "===================================================================================\n",
              "Ljung-Box (L1) (Q):                 450.42   Jarque-Bera (JB):               122.16\n",
              "Prob(Q):                              0.00   Prob(JB):                         0.00\n",
              "Heteroskedasticity (H):               0.86   Skew:                            -0.26\n",
              "Prob(H) (two-sided):                  0.02   Kurtosis:                         3.93\n",
              "===================================================================================\n",
              "\n",
              "Warnings:\n",
              "[1] Covariance matrix calculated using the outer product of gradients (complex-step).\n",
              "\"\"\""
            ],
            "text/html": [
              "<table class=\"simpletable\">\n",
              "<caption>SARIMAX Results</caption>\n",
              "<tr>\n",
              "  <th>Dep. Variable:</th>              <td>y</td>           <th>  No. Observations:  </th>   <td>2613</td>   \n",
              "</tr>\n",
              "<tr>\n",
              "  <th>Model:</th>           <td>SARIMAX(0, 1, [1], 12)</td> <th>  Log Likelihood     </th> <td>-2402.429</td>\n",
              "</tr>\n",
              "<tr>\n",
              "  <th>Date:</th>               <td>Fri, 18 Mar 2022</td>    <th>  AIC                </th> <td>4810.858</td> \n",
              "</tr>\n",
              "<tr>\n",
              "  <th>Time:</th>                   <td>04:34:22</td>        <th>  BIC                </th> <td>4828.449</td> \n",
              "</tr>\n",
              "<tr>\n",
              "  <th>Sample:</th>                     <td>0</td>           <th>  HQIC               </th> <td>4817.232</td> \n",
              "</tr>\n",
              "<tr>\n",
              "  <th></th>                         <td> - 2613</td>        <th>                     </th>     <td> </td>    \n",
              "</tr>\n",
              "<tr>\n",
              "  <th>Covariance Type:</th>           <td>opg</td>          <th>                     </th>     <td> </td>    \n",
              "</tr>\n",
              "</table>\n",
              "<table class=\"simpletable\">\n",
              "<tr>\n",
              "      <td></td>         <th>coef</th>     <th>std err</th>      <th>z</th>      <th>P>|z|</th>  <th>[0.025</th>    <th>0.975]</th>  \n",
              "</tr>\n",
              "<tr>\n",
              "  <th>intercept</th> <td>    0.0034</td> <td>    0.002</td> <td>    2.047</td> <td> 0.041</td> <td>    0.000</td> <td>    0.007</td>\n",
              "</tr>\n",
              "<tr>\n",
              "  <th>ma.S.L12</th>  <td>   -0.8681</td> <td>    0.009</td> <td> -101.836</td> <td> 0.000</td> <td>   -0.885</td> <td>   -0.851</td>\n",
              "</tr>\n",
              "<tr>\n",
              "  <th>sigma2</th>    <td>    0.3690</td> <td>    0.009</td> <td>   43.131</td> <td> 0.000</td> <td>    0.352</td> <td>    0.386</td>\n",
              "</tr>\n",
              "</table>\n",
              "<table class=\"simpletable\">\n",
              "<tr>\n",
              "  <th>Ljung-Box (L1) (Q):</th>     <td>450.42</td> <th>  Jarque-Bera (JB):  </th> <td>122.16</td>\n",
              "</tr>\n",
              "<tr>\n",
              "  <th>Prob(Q):</th>                 <td>0.00</td>  <th>  Prob(JB):          </th>  <td>0.00</td> \n",
              "</tr>\n",
              "<tr>\n",
              "  <th>Heteroskedasticity (H):</th>  <td>0.86</td>  <th>  Skew:              </th>  <td>-0.26</td>\n",
              "</tr>\n",
              "<tr>\n",
              "  <th>Prob(H) (two-sided):</th>     <td>0.02</td>  <th>  Kurtosis:          </th>  <td>3.93</td> \n",
              "</tr>\n",
              "</table><br/><br/>Warnings:<br/>[1] Covariance matrix calculated using the outer product of gradients (complex-step)."
            ]
          },
          "metadata": {},
          "execution_count": 33
        }
      ]
    },
    {
      "cell_type": "code",
      "source": [
        "# Forecast\n",
        "n_periods = 1200\n",
        "fitted, confint = smodel.predict(n_periods=n_periods, return_conf_int=True)\n",
        "index_of_fc = pd.date_range(temp_df2.index[-1], periods = n_periods, freq='1M')\n",
        "\n",
        "# make series for plotting purpose\n",
        "fitted_series = pd.Series(fitted, index=index_of_fc)\n",
        "lower_series = pd.Series(confint[:, 0], index=index_of_fc)\n",
        "upper_series = pd.Series(confint[:, 1], index=index_of_fc)\n",
        "\n",
        "# Plot\n",
        "plt.plot(temp_df2)\n",
        "plt.plot(fitted_series, color='darkgreen')\n",
        "plt.fill_between(lower_series.index, \n",
        "                 lower_series, \n",
        "                 upper_series, \n",
        "                 color='k', alpha=.15)\n",
        "\n",
        "plt.title(\"SARIMA - Final Forecast of Temp\")\n",
        "plt.show()"
      ],
      "metadata": {
        "colab": {
          "base_uri": "https://localhost:8080/",
          "height": 281
        },
        "id": "xIpQe44xZBLr",
        "outputId": "15e0ccce-21bf-4370-fee1-1f79bcad039b"
      },
      "execution_count": 34,
      "outputs": [
        {
          "output_type": "display_data",
          "data": {
            "text/plain": [
              "<Figure size 432x288 with 1 Axes>"
            ],
            "image/png": "[encoded data removed]"
          },
          "metadata": {
            "needs_background": "light"
          }
        }
      ]
    },
    {
      "cell_type": "code",
      "source": [
        "# Forecast\n",
        "n_periods = 1200\n",
        "fitted, confint = smodel.predict(n_periods=n_periods, return_conf_int=True)\n",
        "index_of_fc = pd.date_range(temp_df2.index[-1], periods = n_periods, freq='MS')\n",
        "\n",
        "# make series for plotting purpose\n",
        "fitted_series = pd.Series(fitted, index=index_of_fc)\n",
        "lower_series = pd.Series(confint[:, 0], index=index_of_fc)\n",
        "upper_series = pd.Series(confint[:, 1], index=index_of_fc)\n",
        "\n",
        "# Plot\n",
        "# plt.plot(temp_df2)\n",
        "plt.plot(fitted_series, color='darkgreen')\n",
        "plt.fill_between(lower_series.index, \n",
        "                 lower_series, \n",
        "                 upper_series, \n",
        "                 color='k', alpha=.15)\n",
        "\n",
        "plt.title(\"SARIMA - Final Forecast of Temp\")\n",
        "plt.show()"
      ],
      "metadata": {
        "colab": {
          "base_uri": "https://localhost:8080/",
          "height": 281
        },
        "id": "1aUdJhGEZa1N",
        "outputId": "a0ac2b30-0cc4-426a-b3b2-ec7d40b3699e"
      },
      "execution_count": 58,
      "outputs": [
        {
          "output_type": "display_data",
          "data": {
            "text/plain": [
              "<Figure size 432x288 with 1 Axes>"
            ],
            "image/png": "[encoded data removed]"
          },
          "metadata": {
            "needs_background": "light"
          }
        }
      ]
    },
    {
      "cell_type": "code",
      "source": [
        "zoomed_index = pd.date_range('2021-01-01', periods = 24, freq='MS')\n",
        "zoomed_index"
      ],
      "metadata": {
        "colab": {
          "base_uri": "https://localhost:8080/"
        },
        "id": "EaGznGmohR15",
        "outputId": "fd49a1c0-0d2e-4c31-ba46-ebd02362d8f1"
      },
      "execution_count": 59,
      "outputs": [
        {
          "output_type": "execute_result",
          "data": {
            "text/plain": [
              "DatetimeIndex(['2021-01-01', '2021-02-01', '2021-03-01', '2021-04-01',\n",
              "               '2021-05-01', '2021-06-01', '2021-07-01', '2021-08-01',\n",
              "               '2021-09-01', '2021-10-01', '2021-11-01', '2021-12-01',\n",
              "               '2022-01-01', '2022-02-01', '2022-03-01', '2022-04-01',\n",
              "               '2022-05-01', '2022-06-01', '2022-07-01', '2022-08-01',\n",
              "               '2022-09-01', '2022-10-01', '2022-11-01', '2022-12-01'],\n",
              "              dtype='datetime64[ns]', freq='MS')"
            ]
          },
          "metadata": {},
          "execution_count": 59
        }
      ]
    },
    {
      "cell_type": "code",
      "source": [
        "# Forecast\n",
        "n_periods = 1200\n",
        "fitted, confint = smodel.predict(n_periods=n_periods, return_conf_int=True)\n",
        "index_of_fc = pd.date_range(temp_df2.index[-1], periods = n_periods, freq='MS')\n",
        "\n",
        "# make series for plotting purpose\n",
        "fitted_series = pd.Series(fitted, index=index_of_fc)\n",
        "lower_series = pd.Series(confint[:, 0], index=index_of_fc)\n",
        "upper_series = pd.Series(confint[:, 1], index=index_of_fc)\n",
        "\n",
        "# Plot\n",
        "plt.plot(fitted_series[zoomed_index], color='darkgreen')\n",
        "plt.fill_between(zoomed_index, \n",
        "                 lower_series[zoomed_index], \n",
        "                 upper_series[zoomed_index], \n",
        "                 color='k', alpha=.15)\n",
        "\n",
        "plt.title(\"SARIMA - Final Forecast of Temp\")\n",
        "plt.show()"
      ],
      "metadata": {
        "colab": {
          "base_uri": "https://localhost:8080/",
          "height": 281
        },
        "id": "029dbgsnhc3a",
        "outputId": "5a14b72d-47bb-49d8-e6e1-81379d1f8b3c"
      },
      "execution_count": 62,
      "outputs": [
        {
          "output_type": "display_data",
          "data": {
            "text/plain": [
              "<Figure size 432x288 with 1 Axes>"
            ],
            "image/png": "[encoded data removed]"
          },
          "metadata": {
            "needs_background": "light"
          }
        }
      ]
    },
    {
      "cell_type": "code",
      "source": [
        "zoomed_index = pd.date_range(temp_df2.index[-1], periods = 12, freq='MS')\n",
        "zoomed_index"
      ],
      "metadata": {
        "colab": {
          "base_uri": "https://localhost:8080/"
        },
        "id": "pTkBgWwYlVnr",
        "outputId": "fbcd55ec-196b-4f56-84fb-bef190e6b6a7"
      },
      "execution_count": 74,
      "outputs": [
        {
          "output_type": "execute_result",
          "data": {
            "text/plain": [
              "DatetimeIndex(['2013-09-01', '2013-10-01', '2013-11-01', '2013-12-01',\n",
              "               '2014-01-01', '2014-02-01', '2014-03-01', '2014-04-01',\n",
              "               '2014-05-01', '2014-06-01', '2014-07-01', '2014-08-01'],\n",
              "              dtype='datetime64[ns]', freq='MS')"
            ]
          },
          "metadata": {},
          "execution_count": 74
        }
      ]
    },
    {
      "cell_type": "code",
      "source": [
        "# Forecast\n",
        "n_periods = 1200\n",
        "fitted, confint = smodel.predict(n_periods=n_periods, return_conf_int=True)\n",
        "index_of_fc = pd.date_range(temp_df2.index[-1], periods = n_periods, freq='MS')\n",
        "\n",
        "# make series for plotting purpose\n",
        "fitted_series = pd.Series(fitted, index=index_of_fc)\n",
        "lower_series = pd.Series(confint[:, 0], index=index_of_fc)\n",
        "upper_series = pd.Series(confint[:, 1], index=index_of_fc)\n",
        "\n",
        "# Plot\n",
        "plt.plot(temp_df2[-12:])\n",
        "plt.plot(fitted_series[zoomed_index], color='darkgreen')\n",
        "plt.fill_between(zoomed_index, \n",
        "                 lower_series[zoomed_index], \n",
        "                 upper_series[zoomed_index], \n",
        "                 color='k', alpha=.15)\n",
        "\n",
        "plt.title(\"SARIMA - Final Forecast of Temp\")\n",
        "plt.show()"
      ],
      "metadata": {
        "colab": {
          "base_uri": "https://localhost:8080/",
          "height": 281
        },
        "id": "UtgHjsLzimQe",
        "outputId": "5802d8ae-83b3-4501-b72d-e35eab003670"
      },
      "execution_count": 76,
      "outputs": [
        {
          "output_type": "display_data",
          "data": {
            "text/plain": [
              "<Figure size 432x288 with 1 Axes>"
            ],
            "image/png": "[encoded data removed]"
          },
          "metadata": {
            "needs_background": "light"
          }
        }
      ]
    },
    {
      "cell_type": "code",
      "source": [
        ""
      ],
      "metadata": {
        "id": "7PUCX0Vbl1vv"
      },
      "execution_count": null,
      "outputs": []
    }
  ]
}