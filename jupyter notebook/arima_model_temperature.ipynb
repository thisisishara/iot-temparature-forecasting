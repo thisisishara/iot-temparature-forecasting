{
 "nbformat": 4,
 "nbformat_minor": 0,
 "metadata": {
  "colab": {
   "name": "IOT_ARIMA_All_Data_3.ipynb",
   "provenance": []
  },
  "kernelspec": {
   "name": "python3",
   "display_name": "Python 3"
  },
  "language_info": {
   "name": "python"
  }
 },
 "cells": [
  {
   "cell_type": "code",
   "source": [
    "%pip install pmdarima"
   ],
   "metadata": {
    "id": "3xHalcDd2nk4"
   },
   "execution_count": null,
   "outputs": []
  },
  {
   "cell_type": "code",
   "execution_count": 53,
   "metadata": {
    "id": "0-ov0RQhVkhu"
   },
   "outputs": [],
   "source": [
    "import pandas as pd\n",
    "from matplotlib import pyplot as plt"
   ]
  },
  {
   "cell_type": "code",
   "source": [
    "from google.colab import drive\n",
    "drive.mount('/content/drive')"
   ],
   "metadata": {
    "colab": {
     "base_uri": "https://localhost:8080/"
    },
    "id": "l7Wt4_Q7hab9",
    "outputId": "aeb9a256-0781-4bdf-f7e8-c6e3076d2a91"
   },
   "execution_count": 54,
   "outputs": [
    {
     "output_type": "stream",
     "name": "stdout",
     "text": [
      "Drive already mounted at /content/drive; to attempt to forcibly remount, call drive.mount(\"/content/drive\", force_remount=True).\n"
     ]
    }
   ]
  },
  {
   "cell_type": "code",
   "source": [
    "%cd /content/drive/MyDrive/SLIIT/Y4S1/IOTBDA"
   ],
   "metadata": {
    "colab": {
     "base_uri": "https://localhost:8080/"
    },
    "id": "WRR19BPgXD0U",
    "outputId": "75bcba25-222f-442a-f98c-4fdde4db921a"
   },
   "execution_count": 55,
   "outputs": [
    {
     "output_type": "stream",
     "name": "stdout",
     "text": [
      "/content/drive/MyDrive/SLIIT/Y4S1/IOTBDA\n"
     ]
    }
   ]
  },
  {
   "cell_type": "code",
   "source": [
    "temp = pd.read_csv(\"/content/drive/MyDrive/SLIIT/Y4S1/IOTBDA/temp.csv\", date_parser=[0])"
   ],
   "metadata": {
    "id": "zdc66cz7WJd6"
   },
   "execution_count": 56,
   "outputs": []
  },
  {
   "cell_type": "code",
   "source": [
    "temp.head()"
   ],
   "metadata": {
    "colab": {
     "base_uri": "https://localhost:8080/",
     "height": 206
    },
    "id": "BQer1uNuWfyk",
    "outputId": "160d33ca-bc00-4ab8-96ba-fdc1fda24ee6"
   },
   "execution_count": 57,
   "outputs": [
    {
     "output_type": "execute_result",
     "data": {
      "text/plain": [
       "           dt  AverageTemperature  AverageTemperatureUncertainty     City  \\\n",
       "0  1796-01-01              24.317                          2.190  Colombo   \n",
       "1  1796-02-01              23.923                          1.484  Colombo   \n",
       "2  1796-03-01              24.407                          2.309  Colombo   \n",
       "3  1796-04-01              27.171                          1.650  Colombo   \n",
       "4  1796-05-01              29.050                          1.290  Colombo   \n",
       "\n",
       "     Country  \n",
       "0  Sri Lanka  \n",
       "1  Sri Lanka  \n",
       "2  Sri Lanka  \n",
       "3  Sri Lanka  \n",
       "4  Sri Lanka  "
      ],
      "text/html": [
       "\n",
       "  <div id=\"df-59395822-7aeb-4ab3-b900-caa1fd1ad0d1\">\n",
       "    <div class=\"colab-df-container\">\n",
       "      <div>\n",
       "<style scoped>\n",
       "    .dataframe tbody tr th:only-of-type {\n",
       "        vertical-align: middle;\n",
       "    }\n",
       "\n",
       "    .dataframe tbody tr th {\n",
       "        vertical-align: top;\n",
       "    }\n",
       "\n",
       "    .dataframe thead th {\n",
       "        text-align: right;\n",
       "    }\n",
       "</style>\n",
       "<table border=\"1\" class=\"dataframe\">\n",
       "  <thead>\n",
       "    <tr style=\"text-align: right;\">\n",
       "      <th></th>\n",
       "      <th>dt</th>\n",
       "      <th>AverageTemperature</th>\n",
       "      <th>AverageTemperatureUncertainty</th>\n",
       "      <th>City</th>\n",
       "      <th>Country</th>\n",
       "    </tr>\n",
       "  </thead>\n",
       "  <tbody>\n",
       "    <tr>\n",
       "      <th>0</th>\n",
       "      <td>1796-01-01</td>\n",
       "      <td>24.317</td>\n",
       "      <td>2.190</td>\n",
       "      <td>Colombo</td>\n",
       "      <td>Sri Lanka</td>\n",
       "    </tr>\n",
       "    <tr>\n",
       "      <th>1</th>\n",
       "      <td>1796-02-01</td>\n",
       "      <td>23.923</td>\n",
       "      <td>1.484</td>\n",
       "      <td>Colombo</td>\n",
       "      <td>Sri Lanka</td>\n",
       "    </tr>\n",
       "    <tr>\n",
       "      <th>2</th>\n",
       "      <td>1796-03-01</td>\n",
       "      <td>24.407</td>\n",
       "      <td>2.309</td>\n",
       "      <td>Colombo</td>\n",
       "      <td>Sri Lanka</td>\n",
       "    </tr>\n",
       "    <tr>\n",
       "      <th>3</th>\n",
       "      <td>1796-04-01</td>\n",
       "      <td>27.171</td>\n",
       "      <td>1.650</td>\n",
       "      <td>Colombo</td>\n",
       "      <td>Sri Lanka</td>\n",
       "    </tr>\n",
       "    <tr>\n",
       "      <th>4</th>\n",
       "      <td>1796-05-01</td>\n",
       "      <td>29.050</td>\n",
       "      <td>1.290</td>\n",
       "      <td>Colombo</td>\n",
       "      <td>Sri Lanka</td>\n",
       "    </tr>\n",
       "  </tbody>\n",
       "</table>\n",
       "</div>\n",
       "      <button class=\"colab-df-convert\" onclick=\"convertToInteractive('df-59395822-7aeb-4ab3-b900-caa1fd1ad0d1')\"\n",
       "              title=\"Convert this dataframe to an interactive table.\"\n",
       "              style=\"display:none;\">\n",
       "        \n",
       "  <svg xmlns=\"http://www.w3.org/2000/svg\" height=\"24px\"viewBox=\"0 0 24 24\"\n",
       "       width=\"24px\">\n",
       "    <path d=\"M0 0h24v24H0V0z\" fill=\"none\"/>\n",
       "    <path d=\"M18.56 5.44l.94 2.06.94-2.06 2.06-.94-2.06-.94-.94-2.06-.94 2.06-2.06.94zm-11 1L8.5 8.5l.94-2.06 2.06-.94-2.06-.94L8.5 2.5l-.94 2.06-2.06.94zm10 10l.94 2.06.94-2.06 2.06-.94-2.06-.94-.94-2.06-.94 2.06-2.06.94z\"/><path d=\"M17.41 7.96l-1.37-1.37c-.4-.4-.92-.59-1.43-.59-.52 0-1.04.2-1.43.59L10.3 9.45l-7.72 7.72c-.78.78-.78 2.05 0 2.83L4 21.41c.39.39.9.59 1.41.59.51 0 1.02-.2 1.41-.59l7.78-7.78 2.81-2.81c.8-.78.8-2.07 0-2.86zM5.41 20L4 18.59l7.72-7.72 1.47 1.35L5.41 20z\"/>\n",
       "  </svg>\n",
       "      </button>\n",
       "      \n",
       "  <style>\n",
       "    .colab-df-container {\n",
       "      display:flex;\n",
       "      flex-wrap:wrap;\n",
       "      gap: 12px;\n",
       "    }\n",
       "\n",
       "    .colab-df-convert {\n",
       "      background-color: #E8F0FE;\n",
       "      border: none;\n",
       "      border-radius: 50%;\n",
       "      cursor: pointer;\n",
       "      display: none;\n",
       "      fill: #1967D2;\n",
       "      height: 32px;\n",
       "      padding: 0 0 0 0;\n",
       "      width: 32px;\n",
       "    }\n",
       "\n",
       "    .colab-df-convert:hover {\n",
       "      background-color: #E2EBFA;\n",
       "      box-shadow: 0px 1px 2px rgba(60, 64, 67, 0.3), 0px 1px 3px 1px rgba(60, 64, 67, 0.15);\n",
       "      fill: #174EA6;\n",
       "    }\n",
       "\n",
       "    [theme=dark] .colab-df-convert {\n",
       "      background-color: #3B4455;\n",
       "      fill: #D2E3FC;\n",
       "    }\n",
       "\n",
       "    [theme=dark] .colab-df-convert:hover {\n",
       "      background-color: #434B5C;\n",
       "      box-shadow: 0px 1px 3px 1px rgba(0, 0, 0, 0.15);\n",
       "      filter: drop-shadow(0px 1px 2px rgba(0, 0, 0, 0.3));\n",
       "      fill: #FFFFFF;\n",
       "    }\n",
       "  </style>\n",
       "\n",
       "      <script>\n",
       "        const buttonEl =\n",
       "          document.querySelector('#df-59395822-7aeb-4ab3-b900-caa1fd1ad0d1 button.colab-df-convert');\n",
       "        buttonEl.style.display =\n",
       "          google.colab.kernel.accessAllowed ? 'block' : 'none';\n",
       "\n",
       "        async function convertToInteractive(key) {\n",
       "          const element = document.querySelector('#df-59395822-7aeb-4ab3-b900-caa1fd1ad0d1');\n",
       "          const dataTable =\n",
       "            await google.colab.kernel.invokeFunction('convertToInteractive',\n",
       "                                                     [key], {});\n",
       "          if (!dataTable) return;\n",
       "\n",
       "          const docLinkHtml = 'Like what you see? Visit the ' +\n",
       "            '<a target=\"_blank\" href=https://colab.research.google.com/notebooks/data_table.ipynb>data table notebook</a>'\n",
       "            + ' to learn more about interactive tables.';\n",
       "          element.innerHTML = '';\n",
       "          dataTable['output_type'] = 'display_data';\n",
       "          await google.colab.output.renderOutput(dataTable, element);\n",
       "          const docLink = document.createElement('div');\n",
       "          docLink.innerHTML = docLinkHtml;\n",
       "          element.appendChild(docLink);\n",
       "        }\n",
       "      </script>\n",
       "    </div>\n",
       "  </div>\n",
       "  "
      ]
     },
     "metadata": {},
     "execution_count": 57
    }
   ]
  },
  {
   "cell_type": "code",
   "source": [
    "temp.shape"
   ],
   "metadata": {
    "colab": {
     "base_uri": "https://localhost:8080/"
    },
    "id": "X6zG5M9JWkLY",
    "outputId": "39471eae-fbd0-4ff0-96c1-75d174c3a903"
   },
   "execution_count": 58,
   "outputs": [
    {
     "output_type": "execute_result",
     "data": {
      "text/plain": [
       "(2613, 5)"
      ]
     },
     "metadata": {},
     "execution_count": 58
    }
   ]
  },
  {
   "cell_type": "code",
   "source": [
    "temp.dt = pd.to_datetime(temp.dt)\n",
    "print(temp.info())"
   ],
   "metadata": {
    "id": "LqTDnZbdyvq8",
    "colab": {
     "base_uri": "https://localhost:8080/"
    },
    "outputId": "054ca193-d8b8-4dec-af04-031e721cd577"
   },
   "execution_count": 59,
   "outputs": [
    {
     "output_type": "stream",
     "name": "stdout",
     "text": [
      "<class 'pandas.core.frame.DataFrame'>\n",
      "RangeIndex: 2613 entries, 0 to 2612\n",
      "Data columns (total 5 columns):\n",
      " #   Column                         Non-Null Count  Dtype         \n",
      "---  ------                         --------------  -----         \n",
      " 0   dt                             2613 non-null   datetime64[ns]\n",
      " 1   AverageTemperature             2508 non-null   float64       \n",
      " 2   AverageTemperatureUncertainty  2508 non-null   float64       \n",
      " 3   City                           2613 non-null   object        \n",
      " 4   Country                        2613 non-null   object        \n",
      "dtypes: datetime64[ns](1), float64(2), object(2)\n",
      "memory usage: 102.2+ KB\n",
      "None\n"
     ]
    }
   ]
  },
  {
   "cell_type": "code",
   "source": [
    "temp.isnull().sum()"
   ],
   "metadata": {
    "colab": {
     "base_uri": "https://localhost:8080/"
    },
    "id": "QNLxzfZ9bOyw",
    "outputId": "33ecbc69-9a0e-42a9-e3ff-a4bdfad84055"
   },
   "execution_count": 60,
   "outputs": [
    {
     "output_type": "execute_result",
     "data": {
      "text/plain": [
       "dt                                 0\n",
       "AverageTemperature               105\n",
       "AverageTemperatureUncertainty    105\n",
       "City                               0\n",
       "Country                            0\n",
       "dtype: int64"
      ]
     },
     "metadata": {},
     "execution_count": 60
    }
   ]
  },
  {
   "cell_type": "code",
   "source": [
    "temp[temp.AverageTemperature.isna()]"
   ],
   "metadata": {
    "colab": {
     "base_uri": "https://localhost:8080/",
     "height": 423
    },
    "id": "gsbkjwp9bSjQ",
    "outputId": "40a2ca06-7eeb-42c3-d6d8-e19309d9056f"
   },
   "execution_count": 61,
   "outputs": [
    {
     "output_type": "execute_result",
     "data": {
      "text/plain": [
       "             dt  AverageTemperature  AverageTemperatureUncertainty     City  \\\n",
       "12   1797-01-01                 NaN                            NaN  Colombo   \n",
       "13   1797-02-01                 NaN                            NaN  Colombo   \n",
       "27   1798-04-01                 NaN                            NaN  Colombo   \n",
       "28   1798-05-01                 NaN                            NaN  Colombo   \n",
       "63   1801-04-01                 NaN                            NaN  Colombo   \n",
       "...         ...                 ...                            ...      ...   \n",
       "824  1864-09-01                 NaN                            NaN  Colombo   \n",
       "825  1864-10-01                 NaN                            NaN  Colombo   \n",
       "826  1864-11-01                 NaN                            NaN  Colombo   \n",
       "827  1864-12-01                 NaN                            NaN  Colombo   \n",
       "2612 2013-09-01                 NaN                            NaN  Colombo   \n",
       "\n",
       "        Country  \n",
       "12    Sri Lanka  \n",
       "13    Sri Lanka  \n",
       "27    Sri Lanka  \n",
       "28    Sri Lanka  \n",
       "63    Sri Lanka  \n",
       "...         ...  \n",
       "824   Sri Lanka  \n",
       "825   Sri Lanka  \n",
       "826   Sri Lanka  \n",
       "827   Sri Lanka  \n",
       "2612  Sri Lanka  \n",
       "\n",
       "[105 rows x 5 columns]"
      ],
      "text/html": [
       "\n",
       "  <div id=\"df-ef64e9b6-7619-40b7-8130-487d743202ec\">\n",
       "    <div class=\"colab-df-container\">\n",
       "      <div>\n",
       "<style scoped>\n",
       "    .dataframe tbody tr th:only-of-type {\n",
       "        vertical-align: middle;\n",
       "    }\n",
       "\n",
       "    .dataframe tbody tr th {\n",
       "        vertical-align: top;\n",
       "    }\n",
       "\n",
       "    .dataframe thead th {\n",
       "        text-align: right;\n",
       "    }\n",
       "</style>\n",
       "<table border=\"1\" class=\"dataframe\">\n",
       "  <thead>\n",
       "    <tr style=\"text-align: right;\">\n",
       "      <th></th>\n",
       "      <th>dt</th>\n",
       "      <th>AverageTemperature</th>\n",
       "      <th>AverageTemperatureUncertainty</th>\n",
       "      <th>City</th>\n",
       "      <th>Country</th>\n",
       "    </tr>\n",
       "  </thead>\n",
       "  <tbody>\n",
       "    <tr>\n",
       "      <th>12</th>\n",
       "      <td>1797-01-01</td>\n",
       "      <td>NaN</td>\n",
       "      <td>NaN</td>\n",
       "      <td>Colombo</td>\n",
       "      <td>Sri Lanka</td>\n",
       "    </tr>\n",
       "    <tr>\n",
       "      <th>13</th>\n",
       "      <td>1797-02-01</td>\n",
       "      <td>NaN</td>\n",
       "      <td>NaN</td>\n",
       "      <td>Colombo</td>\n",
       "      <td>Sri Lanka</td>\n",
       "    </tr>\n",
       "    <tr>\n",
       "      <th>27</th>\n",
       "      <td>1798-04-01</td>\n",
       "      <td>NaN</td>\n",
       "      <td>NaN</td>\n",
       "      <td>Colombo</td>\n",
       "      <td>Sri Lanka</td>\n",
       "    </tr>\n",
       "    <tr>\n",
       "      <th>28</th>\n",
       "      <td>1798-05-01</td>\n",
       "      <td>NaN</td>\n",
       "      <td>NaN</td>\n",
       "      <td>Colombo</td>\n",
       "      <td>Sri Lanka</td>\n",
       "    </tr>\n",
       "    <tr>\n",
       "      <th>63</th>\n",
       "      <td>1801-04-01</td>\n",
       "      <td>NaN</td>\n",
       "      <td>NaN</td>\n",
       "      <td>Colombo</td>\n",
       "      <td>Sri Lanka</td>\n",
       "    </tr>\n",
       "    <tr>\n",
       "      <th>...</th>\n",
       "      <td>...</td>\n",
       "      <td>...</td>\n",
       "      <td>...</td>\n",
       "      <td>...</td>\n",
       "      <td>...</td>\n",
       "    </tr>\n",
       "    <tr>\n",
       "      <th>824</th>\n",
       "      <td>1864-09-01</td>\n",
       "      <td>NaN</td>\n",
       "      <td>NaN</td>\n",
       "      <td>Colombo</td>\n",
       "      <td>Sri Lanka</td>\n",
       "    </tr>\n",
       "    <tr>\n",
       "      <th>825</th>\n",
       "      <td>1864-10-01</td>\n",
       "      <td>NaN</td>\n",
       "      <td>NaN</td>\n",
       "      <td>Colombo</td>\n",
       "      <td>Sri Lanka</td>\n",
       "    </tr>\n",
       "    <tr>\n",
       "      <th>826</th>\n",
       "      <td>1864-11-01</td>\n",
       "      <td>NaN</td>\n",
       "      <td>NaN</td>\n",
       "      <td>Colombo</td>\n",
       "      <td>Sri Lanka</td>\n",
       "    </tr>\n",
       "    <tr>\n",
       "      <th>827</th>\n",
       "      <td>1864-12-01</td>\n",
       "      <td>NaN</td>\n",
       "      <td>NaN</td>\n",
       "      <td>Colombo</td>\n",
       "      <td>Sri Lanka</td>\n",
       "    </tr>\n",
       "    <tr>\n",
       "      <th>2612</th>\n",
       "      <td>2013-09-01</td>\n",
       "      <td>NaN</td>\n",
       "      <td>NaN</td>\n",
       "      <td>Colombo</td>\n",
       "      <td>Sri Lanka</td>\n",
       "    </tr>\n",
       "  </tbody>\n",
       "</table>\n",
       "<p>105 rows × 5 columns</p>\n",
       "</div>\n",
       "      <button class=\"colab-df-convert\" onclick=\"convertToInteractive('df-ef64e9b6-7619-40b7-8130-487d743202ec')\"\n",
       "              title=\"Convert this dataframe to an interactive table.\"\n",
       "              style=\"display:none;\">\n",
       "        \n",
       "  <svg xmlns=\"http://www.w3.org/2000/svg\" height=\"24px\"viewBox=\"0 0 24 24\"\n",
       "       width=\"24px\">\n",
       "    <path d=\"M0 0h24v24H0V0z\" fill=\"none\"/>\n",
       "    <path d=\"M18.56 5.44l.94 2.06.94-2.06 2.06-.94-2.06-.94-.94-2.06-.94 2.06-2.06.94zm-11 1L8.5 8.5l.94-2.06 2.06-.94-2.06-.94L8.5 2.5l-.94 2.06-2.06.94zm10 10l.94 2.06.94-2.06 2.06-.94-2.06-.94-.94-2.06-.94 2.06-2.06.94z\"/><path d=\"M17.41 7.96l-1.37-1.37c-.4-.4-.92-.59-1.43-.59-.52 0-1.04.2-1.43.59L10.3 9.45l-7.72 7.72c-.78.78-.78 2.05 0 2.83L4 21.41c.39.39.9.59 1.41.59.51 0 1.02-.2 1.41-.59l7.78-7.78 2.81-2.81c.8-.78.8-2.07 0-2.86zM5.41 20L4 18.59l7.72-7.72 1.47 1.35L5.41 20z\"/>\n",
       "  </svg>\n",
       "      </button>\n",
       "      \n",
       "  <style>\n",
       "    .colab-df-container {\n",
       "      display:flex;\n",
       "      flex-wrap:wrap;\n",
       "      gap: 12px;\n",
       "    }\n",
       "\n",
       "    .colab-df-convert {\n",
       "      background-color: #E8F0FE;\n",
       "      border: none;\n",
       "      border-radius: 50%;\n",
       "      cursor: pointer;\n",
       "      display: none;\n",
       "      fill: #1967D2;\n",
       "      height: 32px;\n",
       "      padding: 0 0 0 0;\n",
       "      width: 32px;\n",
       "    }\n",
       "\n",
       "    .colab-df-convert:hover {\n",
       "      background-color: #E2EBFA;\n",
       "      box-shadow: 0px 1px 2px rgba(60, 64, 67, 0.3), 0px 1px 3px 1px rgba(60, 64, 67, 0.15);\n",
       "      fill: #174EA6;\n",
       "    }\n",
       "\n",
       "    [theme=dark] .colab-df-convert {\n",
       "      background-color: #3B4455;\n",
       "      fill: #D2E3FC;\n",
       "    }\n",
       "\n",
       "    [theme=dark] .colab-df-convert:hover {\n",
       "      background-color: #434B5C;\n",
       "      box-shadow: 0px 1px 3px 1px rgba(0, 0, 0, 0.15);\n",
       "      filter: drop-shadow(0px 1px 2px rgba(0, 0, 0, 0.3));\n",
       "      fill: #FFFFFF;\n",
       "    }\n",
       "  </style>\n",
       "\n",
       "      <script>\n",
       "        const buttonEl =\n",
       "          document.querySelector('#df-ef64e9b6-7619-40b7-8130-487d743202ec button.colab-df-convert');\n",
       "        buttonEl.style.display =\n",
       "          google.colab.kernel.accessAllowed ? 'block' : 'none';\n",
       "\n",
       "        async function convertToInteractive(key) {\n",
       "          const element = document.querySelector('#df-ef64e9b6-7619-40b7-8130-487d743202ec');\n",
       "          const dataTable =\n",
       "            await google.colab.kernel.invokeFunction('convertToInteractive',\n",
       "                                                     [key], {});\n",
       "          if (!dataTable) return;\n",
       "\n",
       "          const docLinkHtml = 'Like what you see? Visit the ' +\n",
       "            '<a target=\"_blank\" href=https://colab.research.google.com/notebooks/data_table.ipynb>data table notebook</a>'\n",
       "            + ' to learn more about interactive tables.';\n",
       "          element.innerHTML = '';\n",
       "          dataTable['output_type'] = 'display_data';\n",
       "          await google.colab.output.renderOutput(dataTable, element);\n",
       "          const docLink = document.createElement('div');\n",
       "          docLink.innerHTML = docLinkHtml;\n",
       "          element.appendChild(docLink);\n",
       "        }\n",
       "      </script>\n",
       "    </div>\n",
       "  </div>\n",
       "  "
      ]
     },
     "metadata": {},
     "execution_count": 61
    }
   ]
  },
  {
   "cell_type": "code",
   "source": [
    "monthly_temp_avg_list = list()\n",
    "\n",
    "for i in range(12):\n",
    "  m_avg = temp[pd.DatetimeIndex(temp.dt).month == (i+1)].mean(numeric_only=True)\n",
    "  m_avg_tuple = (m_avg[0], m_avg[1])\n",
    "  monthly_temp_avg_list.append(m_avg_tuple)\n",
    "\n",
    "monthly_temp_avg_list"
   ],
   "metadata": {
    "colab": {
     "base_uri": "https://localhost:8080/"
    },
    "id": "Mov3xLZuEKWc",
    "outputId": "ac61f9fc-53ad-4526-c668-ed27cca2f4cc"
   },
   "execution_count": 62,
   "outputs": [
    {
     "output_type": "execute_result",
     "data": {
      "text/plain": [
       "[(24.19209523809525, 1.1201),\n",
       " (24.039885714285724, 1.04145238095238),\n",
       " (25.673476190476183, 1.0312190476190481),\n",
       " (27.413801932367146, 0.9722125603864734),\n",
       " (28.902565217391288, 0.8509420289855072),\n",
       " (28.271755980861236, 0.8784976076555028),\n",
       " (27.078728571428556, 0.8288857142857143),\n",
       " (26.61944761904763, 0.7725952380952382),\n",
       " (26.861770334928227, 0.7577942583732057),\n",
       " (27.69363157894736, 0.8915502392344496),\n",
       " (27.306114832535897, 1.0404258373205744),\n",
       " (25.574889423076918, 1.0955769230769226)]"
      ]
     },
     "metadata": {},
     "execution_count": 62
    }
   ]
  },
  {
   "cell_type": "code",
   "source": [
    "for i in range(12):\n",
    "  temp.loc[(temp.AverageTemperature.isna()) & (pd.DatetimeIndex(temp.dt).month==(i+1)), \"AverageTemperature\"] = monthly_temp_avg_list[(i)][0]\n",
    "  temp.loc[(temp.AverageTemperatureUncertainty.isna()) & (pd.DatetimeIndex(temp.dt).month==(i+1)), \"AverageTemperatureUncertainty\"] = monthly_temp_avg_list[(i)][1]\n",
    "temp.isnull().sum()"
   ],
   "metadata": {
    "colab": {
     "base_uri": "https://localhost:8080/"
    },
    "id": "5HmkeIqTFBu9",
    "outputId": "6fceddff-9633-4b61-8e2e-dd12e57c2cb7"
   },
   "execution_count": 63,
   "outputs": [
    {
     "output_type": "execute_result",
     "data": {
      "text/plain": [
       "dt                               0\n",
       "AverageTemperature               0\n",
       "AverageTemperatureUncertainty    0\n",
       "City                             0\n",
       "Country                          0\n",
       "dtype: int64"
      ]
     },
     "metadata": {},
     "execution_count": 63
    }
   ]
  },
  {
   "cell_type": "code",
   "source": [
    "# All null values were filled using the average monthly value for all years in the total dataset\n",
    "temp"
   ],
   "metadata": {
    "colab": {
     "base_uri": "https://localhost:8080/",
     "height": 423
    },
    "id": "SFCgamV4juGA",
    "outputId": "e6df1684-826f-4587-bfd7-8d2a11c5cf1e"
   },
   "execution_count": 64,
   "outputs": [
    {
     "output_type": "execute_result",
     "data": {
      "text/plain": [
       "             dt  AverageTemperature  AverageTemperatureUncertainty     City  \\\n",
       "0    1796-01-01            24.31700                       2.190000  Colombo   \n",
       "1    1796-02-01            23.92300                       1.484000  Colombo   \n",
       "2    1796-03-01            24.40700                       2.309000  Colombo   \n",
       "3    1796-04-01            27.17100                       1.650000  Colombo   \n",
       "4    1796-05-01            29.05000                       1.290000  Colombo   \n",
       "...         ...                 ...                            ...      ...   \n",
       "2608 2013-05-01            29.71800                       0.574000  Colombo   \n",
       "2609 2013-06-01            27.68600                       0.260000  Colombo   \n",
       "2610 2013-07-01            26.51900                       0.177000  Colombo   \n",
       "2611 2013-08-01            26.95300                       0.390000  Colombo   \n",
       "2612 2013-09-01            26.86177                       0.757794  Colombo   \n",
       "\n",
       "        Country  \n",
       "0     Sri Lanka  \n",
       "1     Sri Lanka  \n",
       "2     Sri Lanka  \n",
       "3     Sri Lanka  \n",
       "4     Sri Lanka  \n",
       "...         ...  \n",
       "2608  Sri Lanka  \n",
       "2609  Sri Lanka  \n",
       "2610  Sri Lanka  \n",
       "2611  Sri Lanka  \n",
       "2612  Sri Lanka  \n",
       "\n",
       "[2613 rows x 5 columns]"
      ],
      "text/html": [
       "\n",
       "  <div id=\"df-121e7e79-9fd8-4013-bf5c-ff2a33acad39\">\n",
       "    <div class=\"colab-df-container\">\n",
       "      <div>\n",
       "<style scoped>\n",
       "    .dataframe tbody tr th:only-of-type {\n",
       "        vertical-align: middle;\n",
       "    }\n",
       "\n",
       "    .dataframe tbody tr th {\n",
       "        vertical-align: top;\n",
       "    }\n",
       "\n",
       "    .dataframe thead th {\n",
       "        text-align: right;\n",
       "    }\n",
       "</style>\n",
       "<table border=\"1\" class=\"dataframe\">\n",
       "  <thead>\n",
       "    <tr style=\"text-align: right;\">\n",
       "      <th></th>\n",
       "      <th>dt</th>\n",
       "      <th>AverageTemperature</th>\n",
       "      <th>AverageTemperatureUncertainty</th>\n",
       "      <th>City</th>\n",
       "      <th>Country</th>\n",
       "    </tr>\n",
       "  </thead>\n",
       "  <tbody>\n",
       "    <tr>\n",
       "      <th>0</th>\n",
       "      <td>1796-01-01</td>\n",
       "      <td>24.31700</td>\n",
       "      <td>2.190000</td>\n",
       "      <td>Colombo</td>\n",
       "      <td>Sri Lanka</td>\n",
       "    </tr>\n",
       "    <tr>\n",
       "      <th>1</th>\n",
       "      <td>1796-02-01</td>\n",
       "      <td>23.92300</td>\n",
       "      <td>1.484000</td>\n",
       "      <td>Colombo</td>\n",
       "      <td>Sri Lanka</td>\n",
       "    </tr>\n",
       "    <tr>\n",
       "      <th>2</th>\n",
       "      <td>1796-03-01</td>\n",
       "      <td>24.40700</td>\n",
       "      <td>2.309000</td>\n",
       "      <td>Colombo</td>\n",
       "      <td>Sri Lanka</td>\n",
       "    </tr>\n",
       "    <tr>\n",
       "      <th>3</th>\n",
       "      <td>1796-04-01</td>\n",
       "      <td>27.17100</td>\n",
       "      <td>1.650000</td>\n",
       "      <td>Colombo</td>\n",
       "      <td>Sri Lanka</td>\n",
       "    </tr>\n",
       "    <tr>\n",
       "      <th>4</th>\n",
       "      <td>1796-05-01</td>\n",
       "      <td>29.05000</td>\n",
       "      <td>1.290000</td>\n",
       "      <td>Colombo</td>\n",
       "      <td>Sri Lanka</td>\n",
       "    </tr>\n",
       "    <tr>\n",
       "      <th>...</th>\n",
       "      <td>...</td>\n",
       "      <td>...</td>\n",
       "      <td>...</td>\n",
       "      <td>...</td>\n",
       "      <td>...</td>\n",
       "    </tr>\n",
       "    <tr>\n",
       "      <th>2608</th>\n",
       "      <td>2013-05-01</td>\n",
       "      <td>29.71800</td>\n",
       "      <td>0.574000</td>\n",
       "      <td>Colombo</td>\n",
       "      <td>Sri Lanka</td>\n",
       "    </tr>\n",
       "    <tr>\n",
       "      <th>2609</th>\n",
       "      <td>2013-06-01</td>\n",
       "      <td>27.68600</td>\n",
       "      <td>0.260000</td>\n",
       "      <td>Colombo</td>\n",
       "      <td>Sri Lanka</td>\n",
       "    </tr>\n",
       "    <tr>\n",
       "      <th>2610</th>\n",
       "      <td>2013-07-01</td>\n",
       "      <td>26.51900</td>\n",
       "      <td>0.177000</td>\n",
       "      <td>Colombo</td>\n",
       "      <td>Sri Lanka</td>\n",
       "    </tr>\n",
       "    <tr>\n",
       "      <th>2611</th>\n",
       "      <td>2013-08-01</td>\n",
       "      <td>26.95300</td>\n",
       "      <td>0.390000</td>\n",
       "      <td>Colombo</td>\n",
       "      <td>Sri Lanka</td>\n",
       "    </tr>\n",
       "    <tr>\n",
       "      <th>2612</th>\n",
       "      <td>2013-09-01</td>\n",
       "      <td>26.86177</td>\n",
       "      <td>0.757794</td>\n",
       "      <td>Colombo</td>\n",
       "      <td>Sri Lanka</td>\n",
       "    </tr>\n",
       "  </tbody>\n",
       "</table>\n",
       "<p>2613 rows × 5 columns</p>\n",
       "</div>\n",
       "      <button class=\"colab-df-convert\" onclick=\"convertToInteractive('df-121e7e79-9fd8-4013-bf5c-ff2a33acad39')\"\n",
       "              title=\"Convert this dataframe to an interactive table.\"\n",
       "              style=\"display:none;\">\n",
       "        \n",
       "  <svg xmlns=\"http://www.w3.org/2000/svg\" height=\"24px\"viewBox=\"0 0 24 24\"\n",
       "       width=\"24px\">\n",
       "    <path d=\"M0 0h24v24H0V0z\" fill=\"none\"/>\n",
       "    <path d=\"M18.56 5.44l.94 2.06.94-2.06 2.06-.94-2.06-.94-.94-2.06-.94 2.06-2.06.94zm-11 1L8.5 8.5l.94-2.06 2.06-.94-2.06-.94L8.5 2.5l-.94 2.06-2.06.94zm10 10l.94 2.06.94-2.06 2.06-.94-2.06-.94-.94-2.06-.94 2.06-2.06.94z\"/><path d=\"M17.41 7.96l-1.37-1.37c-.4-.4-.92-.59-1.43-.59-.52 0-1.04.2-1.43.59L10.3 9.45l-7.72 7.72c-.78.78-.78 2.05 0 2.83L4 21.41c.39.39.9.59 1.41.59.51 0 1.02-.2 1.41-.59l7.78-7.78 2.81-2.81c.8-.78.8-2.07 0-2.86zM5.41 20L4 18.59l7.72-7.72 1.47 1.35L5.41 20z\"/>\n",
       "  </svg>\n",
       "      </button>\n",
       "      \n",
       "  <style>\n",
       "    .colab-df-container {\n",
       "      display:flex;\n",
       "      flex-wrap:wrap;\n",
       "      gap: 12px;\n",
       "    }\n",
       "\n",
       "    .colab-df-convert {\n",
       "      background-color: #E8F0FE;\n",
       "      border: none;\n",
       "      border-radius: 50%;\n",
       "      cursor: pointer;\n",
       "      display: none;\n",
       "      fill: #1967D2;\n",
       "      height: 32px;\n",
       "      padding: 0 0 0 0;\n",
       "      width: 32px;\n",
       "    }\n",
       "\n",
       "    .colab-df-convert:hover {\n",
       "      background-color: #E2EBFA;\n",
       "      box-shadow: 0px 1px 2px rgba(60, 64, 67, 0.3), 0px 1px 3px 1px rgba(60, 64, 67, 0.15);\n",
       "      fill: #174EA6;\n",
       "    }\n",
       "\n",
       "    [theme=dark] .colab-df-convert {\n",
       "      background-color: #3B4455;\n",
       "      fill: #D2E3FC;\n",
       "    }\n",
       "\n",
       "    [theme=dark] .colab-df-convert:hover {\n",
       "      background-color: #434B5C;\n",
       "      box-shadow: 0px 1px 3px 1px rgba(0, 0, 0, 0.15);\n",
       "      filter: drop-shadow(0px 1px 2px rgba(0, 0, 0, 0.3));\n",
       "      fill: #FFFFFF;\n",
       "    }\n",
       "  </style>\n",
       "\n",
       "      <script>\n",
       "        const buttonEl =\n",
       "          document.querySelector('#df-121e7e79-9fd8-4013-bf5c-ff2a33acad39 button.colab-df-convert');\n",
       "        buttonEl.style.display =\n",
       "          google.colab.kernel.accessAllowed ? 'block' : 'none';\n",
       "\n",
       "        async function convertToInteractive(key) {\n",
       "          const element = document.querySelector('#df-121e7e79-9fd8-4013-bf5c-ff2a33acad39');\n",
       "          const dataTable =\n",
       "            await google.colab.kernel.invokeFunction('convertToInteractive',\n",
       "                                                     [key], {});\n",
       "          if (!dataTable) return;\n",
       "\n",
       "          const docLinkHtml = 'Like what you see? Visit the ' +\n",
       "            '<a target=\"_blank\" href=https://colab.research.google.com/notebooks/data_table.ipynb>data table notebook</a>'\n",
       "            + ' to learn more about interactive tables.';\n",
       "          element.innerHTML = '';\n",
       "          dataTable['output_type'] = 'display_data';\n",
       "          await google.colab.output.renderOutput(dataTable, element);\n",
       "          const docLink = document.createElement('div');\n",
       "          docLink.innerHTML = docLinkHtml;\n",
       "          element.appendChild(docLink);\n",
       "        }\n",
       "      </script>\n",
       "    </div>\n",
       "  </div>\n",
       "  "
      ]
     },
     "metadata": {},
     "execution_count": 64
    }
   ]
  },
  {
   "cell_type": "code",
   "source": [
    "temp_df = temp.copy()\n",
    "temp_df.set_index(temp_df.dt, inplace=True)\n",
    "temp_df = temp_df.drop(columns=['dt'])\n",
    "temp_df"
   ],
   "metadata": {
    "colab": {
     "base_uri": "https://localhost:8080/",
     "height": 455
    },
    "id": "UzySb3eyraBy",
    "outputId": "e2b33931-dea9-4e75-a036-29979053ee04"
   },
   "execution_count": 65,
   "outputs": [
    {
     "output_type": "execute_result",
     "data": {
      "text/plain": [
       "            AverageTemperature  AverageTemperatureUncertainty     City  \\\n",
       "dt                                                                       \n",
       "1796-01-01            24.31700                       2.190000  Colombo   \n",
       "1796-02-01            23.92300                       1.484000  Colombo   \n",
       "1796-03-01            24.40700                       2.309000  Colombo   \n",
       "1796-04-01            27.17100                       1.650000  Colombo   \n",
       "1796-05-01            29.05000                       1.290000  Colombo   \n",
       "...                        ...                            ...      ...   \n",
       "2013-05-01            29.71800                       0.574000  Colombo   \n",
       "2013-06-01            27.68600                       0.260000  Colombo   \n",
       "2013-07-01            26.51900                       0.177000  Colombo   \n",
       "2013-08-01            26.95300                       0.390000  Colombo   \n",
       "2013-09-01            26.86177                       0.757794  Colombo   \n",
       "\n",
       "              Country  \n",
       "dt                     \n",
       "1796-01-01  Sri Lanka  \n",
       "1796-02-01  Sri Lanka  \n",
       "1796-03-01  Sri Lanka  \n",
       "1796-04-01  Sri Lanka  \n",
       "1796-05-01  Sri Lanka  \n",
       "...               ...  \n",
       "2013-05-01  Sri Lanka  \n",
       "2013-06-01  Sri Lanka  \n",
       "2013-07-01  Sri Lanka  \n",
       "2013-08-01  Sri Lanka  \n",
       "2013-09-01  Sri Lanka  \n",
       "\n",
       "[2613 rows x 4 columns]"
      ],
      "text/html": [
       "\n",
       "  <div id=\"df-f49a230d-1de4-44a4-95ed-a63a5fb17fb8\">\n",
       "    <div class=\"colab-df-container\">\n",
       "      <div>\n",
       "<style scoped>\n",
       "    .dataframe tbody tr th:only-of-type {\n",
       "        vertical-align: middle;\n",
       "    }\n",
       "\n",
       "    .dataframe tbody tr th {\n",
       "        vertical-align: top;\n",
       "    }\n",
       "\n",
       "    .dataframe thead th {\n",
       "        text-align: right;\n",
       "    }\n",
       "</style>\n",
       "<table border=\"1\" class=\"dataframe\">\n",
       "  <thead>\n",
       "    <tr style=\"text-align: right;\">\n",
       "      <th></th>\n",
       "      <th>AverageTemperature</th>\n",
       "      <th>AverageTemperatureUncertainty</th>\n",
       "      <th>City</th>\n",
       "      <th>Country</th>\n",
       "    </tr>\n",
       "    <tr>\n",
       "      <th>dt</th>\n",
       "      <th></th>\n",
       "      <th></th>\n",
       "      <th></th>\n",
       "      <th></th>\n",
       "    </tr>\n",
       "  </thead>\n",
       "  <tbody>\n",
       "    <tr>\n",
       "      <th>1796-01-01</th>\n",
       "      <td>24.31700</td>\n",
       "      <td>2.190000</td>\n",
       "      <td>Colombo</td>\n",
       "      <td>Sri Lanka</td>\n",
       "    </tr>\n",
       "    <tr>\n",
       "      <th>1796-02-01</th>\n",
       "      <td>23.92300</td>\n",
       "      <td>1.484000</td>\n",
       "      <td>Colombo</td>\n",
       "      <td>Sri Lanka</td>\n",
       "    </tr>\n",
       "    <tr>\n",
       "      <th>1796-03-01</th>\n",
       "      <td>24.40700</td>\n",
       "      <td>2.309000</td>\n",
       "      <td>Colombo</td>\n",
       "      <td>Sri Lanka</td>\n",
       "    </tr>\n",
       "    <tr>\n",
       "      <th>1796-04-01</th>\n",
       "      <td>27.17100</td>\n",
       "      <td>1.650000</td>\n",
       "      <td>Colombo</td>\n",
       "      <td>Sri Lanka</td>\n",
       "    </tr>\n",
       "    <tr>\n",
       "      <th>1796-05-01</th>\n",
       "      <td>29.05000</td>\n",
       "      <td>1.290000</td>\n",
       "      <td>Colombo</td>\n",
       "      <td>Sri Lanka</td>\n",
       "    </tr>\n",
       "    <tr>\n",
       "      <th>...</th>\n",
       "      <td>...</td>\n",
       "      <td>...</td>\n",
       "      <td>...</td>\n",
       "      <td>...</td>\n",
       "    </tr>\n",
       "    <tr>\n",
       "      <th>2013-05-01</th>\n",
       "      <td>29.71800</td>\n",
       "      <td>0.574000</td>\n",
       "      <td>Colombo</td>\n",
       "      <td>Sri Lanka</td>\n",
       "    </tr>\n",
       "    <tr>\n",
       "      <th>2013-06-01</th>\n",
       "      <td>27.68600</td>\n",
       "      <td>0.260000</td>\n",
       "      <td>Colombo</td>\n",
       "      <td>Sri Lanka</td>\n",
       "    </tr>\n",
       "    <tr>\n",
       "      <th>2013-07-01</th>\n",
       "      <td>26.51900</td>\n",
       "      <td>0.177000</td>\n",
       "      <td>Colombo</td>\n",
       "      <td>Sri Lanka</td>\n",
       "    </tr>\n",
       "    <tr>\n",
       "      <th>2013-08-01</th>\n",
       "      <td>26.95300</td>\n",
       "      <td>0.390000</td>\n",
       "      <td>Colombo</td>\n",
       "      <td>Sri Lanka</td>\n",
       "    </tr>\n",
       "    <tr>\n",
       "      <th>2013-09-01</th>\n",
       "      <td>26.86177</td>\n",
       "      <td>0.757794</td>\n",
       "      <td>Colombo</td>\n",
       "      <td>Sri Lanka</td>\n",
       "    </tr>\n",
       "  </tbody>\n",
       "</table>\n",
       "<p>2613 rows × 4 columns</p>\n",
       "</div>\n",
       "      <button class=\"colab-df-convert\" onclick=\"convertToInteractive('df-f49a230d-1de4-44a4-95ed-a63a5fb17fb8')\"\n",
       "              title=\"Convert this dataframe to an interactive table.\"\n",
       "              style=\"display:none;\">\n",
       "        \n",
       "  <svg xmlns=\"http://www.w3.org/2000/svg\" height=\"24px\"viewBox=\"0 0 24 24\"\n",
       "       width=\"24px\">\n",
       "    <path d=\"M0 0h24v24H0V0z\" fill=\"none\"/>\n",
       "    <path d=\"M18.56 5.44l.94 2.06.94-2.06 2.06-.94-2.06-.94-.94-2.06-.94 2.06-2.06.94zm-11 1L8.5 8.5l.94-2.06 2.06-.94-2.06-.94L8.5 2.5l-.94 2.06-2.06.94zm10 10l.94 2.06.94-2.06 2.06-.94-2.06-.94-.94-2.06-.94 2.06-2.06.94z\"/><path d=\"M17.41 7.96l-1.37-1.37c-.4-.4-.92-.59-1.43-.59-.52 0-1.04.2-1.43.59L10.3 9.45l-7.72 7.72c-.78.78-.78 2.05 0 2.83L4 21.41c.39.39.9.59 1.41.59.51 0 1.02-.2 1.41-.59l7.78-7.78 2.81-2.81c.8-.78.8-2.07 0-2.86zM5.41 20L4 18.59l7.72-7.72 1.47 1.35L5.41 20z\"/>\n",
       "  </svg>\n",
       "      </button>\n",
       "      \n",
       "  <style>\n",
       "    .colab-df-container {\n",
       "      display:flex;\n",
       "      flex-wrap:wrap;\n",
       "      gap: 12px;\n",
       "    }\n",
       "\n",
       "    .colab-df-convert {\n",
       "      background-color: #E8F0FE;\n",
       "      border: none;\n",
       "      border-radius: 50%;\n",
       "      cursor: pointer;\n",
       "      display: none;\n",
       "      fill: #1967D2;\n",
       "      height: 32px;\n",
       "      padding: 0 0 0 0;\n",
       "      width: 32px;\n",
       "    }\n",
       "\n",
       "    .colab-df-convert:hover {\n",
       "      background-color: #E2EBFA;\n",
       "      box-shadow: 0px 1px 2px rgba(60, 64, 67, 0.3), 0px 1px 3px 1px rgba(60, 64, 67, 0.15);\n",
       "      fill: #174EA6;\n",
       "    }\n",
       "\n",
       "    [theme=dark] .colab-df-convert {\n",
       "      background-color: #3B4455;\n",
       "      fill: #D2E3FC;\n",
       "    }\n",
       "\n",
       "    [theme=dark] .colab-df-convert:hover {\n",
       "      background-color: #434B5C;\n",
       "      box-shadow: 0px 1px 3px 1px rgba(0, 0, 0, 0.15);\n",
       "      filter: drop-shadow(0px 1px 2px rgba(0, 0, 0, 0.3));\n",
       "      fill: #FFFFFF;\n",
       "    }\n",
       "  </style>\n",
       "\n",
       "      <script>\n",
       "        const buttonEl =\n",
       "          document.querySelector('#df-f49a230d-1de4-44a4-95ed-a63a5fb17fb8 button.colab-df-convert');\n",
       "        buttonEl.style.display =\n",
       "          google.colab.kernel.accessAllowed ? 'block' : 'none';\n",
       "\n",
       "        async function convertToInteractive(key) {\n",
       "          const element = document.querySelector('#df-f49a230d-1de4-44a4-95ed-a63a5fb17fb8');\n",
       "          const dataTable =\n",
       "            await google.colab.kernel.invokeFunction('convertToInteractive',\n",
       "                                                     [key], {});\n",
       "          if (!dataTable) return;\n",
       "\n",
       "          const docLinkHtml = 'Like what you see? Visit the ' +\n",
       "            '<a target=\"_blank\" href=https://colab.research.google.com/notebooks/data_table.ipynb>data table notebook</a>'\n",
       "            + ' to learn more about interactive tables.';\n",
       "          element.innerHTML = '';\n",
       "          dataTable['output_type'] = 'display_data';\n",
       "          await google.colab.output.renderOutput(dataTable, element);\n",
       "          const docLink = document.createElement('div');\n",
       "          docLink.innerHTML = docLinkHtml;\n",
       "          element.appendChild(docLink);\n",
       "        }\n",
       "      </script>\n",
       "    </div>\n",
       "  </div>\n",
       "  "
      ]
     },
     "metadata": {},
     "execution_count": 65
    }
   ]
  },
  {
   "cell_type": "code",
   "source": [
    "# check if data is stationary by plotting\n",
    "temp_df.AverageTemperature.plot()\n",
    "plt.show()"
   ],
   "metadata": {
    "colab": {
     "base_uri": "https://localhost:8080/",
     "height": 279
    },
    "id": "_KTpFZVqsB6w",
    "outputId": "26850535-36d3-471c-f1b7-f53732648f7d"
   },
   "execution_count": 66,
   "outputs": [
    {
     "output_type": "display_data",
     "data": {
      "text/plain": [
       "<Figure size 432x288 with 1 Axes>"
      ],
      "image/png": "[encoded data removed]"
     },
     "metadata": {
      "needs_background": "light"
     }
    }
   ]
  },
  {
   "cell_type": "code",
   "source": [
    "# check if data has a bell curve (normal dist)\n",
    "temp_df.AverageTemperature.hist()\n",
    "plt.show()"
   ],
   "metadata": {
    "colab": {
     "base_uri": "https://localhost:8080/",
     "height": 265
    },
    "id": "VbwOPpZsY6cf",
    "outputId": "67f50c24-9b5f-4d0e-e4b2-0faf6ca1b1d8"
   },
   "execution_count": 67,
   "outputs": [
    {
     "output_type": "display_data",
     "data": {
      "text/plain": [
       "<Figure size 432x288 with 1 Axes>"
      ],
      "image/png": "[encoded data removed]"
     },
     "metadata": {
      "needs_background": "light"
     }
    }
   ]
  },
  {
   "cell_type": "code",
   "source": [
    "# See if two parts of the same dataset has the same mean and varience. if different => non stationary, if almost similar => data is stationary\n",
    "vals = temp_df.AverageTemperature.values\n",
    "split = int(len(vals) / 2)\n",
    "print('split = ', split)\n",
    "\n",
    "vals1, vals2 = vals[0:split], vals[split:]\n",
    "mean1, mean2 = vals1.mean(), vals2.mean()\n",
    "var1, var2 = vals1.var(), vals2.var()\n",
    "print('mean1=%f, mean2=%f' % (mean1, mean2))\n",
    "print('variance1=%f, variance2=%f' % (var1, var2))"
   ],
   "metadata": {
    "colab": {
     "base_uri": "https://localhost:8080/"
    },
    "id": "qd3sIVBnshbi",
    "outputId": "d62a2a72-ddf0-4741-f661-6dc6f2290236"
   },
   "execution_count": 68,
   "outputs": [
    {
     "output_type": "stream",
     "name": "stdout",
     "text": [
      "split =  1306\n",
      "mean1=26.374018, mean2=26.896632\n",
      "variance1=2.493149, variance2=2.506570\n"
     ]
    }
   ]
  },
  {
   "cell_type": "code",
   "source": [
    "# ADF test suggests that data is stationary. (P value <= 0.05)\n",
    "from statsmodels.tsa.stattools import adfuller\n",
    "vals = temp_df.AverageTemperature.values\n",
    "result = adfuller(vals)\n",
    "print('ADF Statistic: %f' % result[0])\n",
    "print('p-value: %f' % result[1])\n",
    "print('Critical Values:')\n",
    "for key, value in result[4].items():\n",
    "\tprint('\\t%s: %.3f' % (key, value))"
   ],
   "metadata": {
    "colab": {
     "base_uri": "https://localhost:8080/"
    },
    "id": "XDwQuZI5tyCF",
    "outputId": "0b3267ea-9937-4e07-c56d-efbfd9c19330"
   },
   "execution_count": 69,
   "outputs": [
    {
     "output_type": "stream",
     "name": "stdout",
     "text": [
      "ADF Statistic: -4.155408\n",
      "p-value: 0.000783\n",
      "Critical Values:\n",
      "\t1%: -3.433\n",
      "\t5%: -2.863\n",
      "\t10%: -2.567\n"
     ]
    }
   ]
  },
  {
   "cell_type": "code",
   "source": [
    "# ADF test suggests that data is non-stationary. (NOTE: this step is the same as above)\n",
    "from statsmodels.tsa.stattools import adfuller, acf, pacf\n",
    "vals = temp_df.AverageTemperature.values\n",
    "dftest = adfuller(vals, autolag=\"AIC\")\n",
    "dfoutput = pd.Series(dftest[0:4], index=[\"Test Stats\", \"p-value\", \"# Lags\", \"# of obs\"])\n",
    "for key, value in dftest[4].items():\n",
    "    dfoutput[f\"Critical Value ({key})\"] = value\n",
    "print(dfoutput)"
   ],
   "metadata": {
    "colab": {
     "base_uri": "https://localhost:8080/"
    },
    "id": "zcBHKsu5ui3z",
    "outputId": "820666bb-d112-489f-bbbe-505563266f6a"
   },
   "execution_count": 70,
   "outputs": [
    {
     "output_type": "stream",
     "name": "stdout",
     "text": [
      "Test Stats                -4.155408\n",
      "p-value                    0.000783\n",
      "# Lags                    28.000000\n",
      "# of obs                2584.000000\n",
      "Critical Value (1%)       -3.432883\n",
      "Critical Value (5%)       -2.862659\n",
      "Critical Value (10%)      -2.567366\n",
      "dtype: float64\n"
     ]
    }
   ]
  },
  {
   "cell_type": "code",
   "source": [
    "from pmdarima.arima import ADFTest\n",
    "\n",
    "adf_test=ADFTest(alpha=0.05)\n",
    "adf_test.should_diff(temp_df.AverageTemperature)"
   ],
   "metadata": {
    "colab": {
     "base_uri": "https://localhost:8080/"
    },
    "id": "wvtCUOQ6ihul",
    "outputId": "1c9b4718-6faa-4bb5-a26b-eee695e5bc59"
   },
   "execution_count": 71,
   "outputs": [
    {
     "output_type": "execute_result",
     "data": {
      "text/plain": [
       "(0.01, False)"
      ]
     },
     "metadata": {},
     "execution_count": 71
    }
   ]
  },
  {
   "cell_type": "code",
   "source": [
    "from statsmodels.graphics.tsaplots import plot_acf, plot_pacf\n",
    "plot_acf(temp_df.AverageTemperature);\n",
    "plot_pacf(temp_df.AverageTemperature, method='ywm');"
   ],
   "metadata": {
    "colab": {
     "base_uri": "https://localhost:8080/",
     "height": 545
    },
    "id": "g2J3mBCC7ZCV",
    "outputId": "409e8b73-04db-43e5-b0a1-792136970c1d"
   },
   "execution_count": 72,
   "outputs": [
    {
     "output_type": "display_data",
     "data": {
      "text/plain": [
       "<Figure size 432x288 with 1 Axes>"
      ],
      "image/png": "[encoded data removed]"
     },
     "metadata": {
      "needs_background": "light"
     }
    },
    {
     "output_type": "display_data",
     "data": {
      "text/plain": [
       "<Figure size 432x288 with 1 Axes>"
      ],
      "image/png": "[encoded data removed]"
     },
     "metadata": {
      "needs_background": "light"
     }
    }
   ]
  },
  {
   "cell_type": "code",
   "source": [
    "# Identifying freq, m by looking at few years of temp. data, m=12\n",
    "temp_df.AverageTemperature[-45:-9].plot()\n",
    "plt.show()"
   ],
   "metadata": {
    "colab": {
     "base_uri": "https://localhost:8080/",
     "height": 294
    },
    "id": "QRyzLnJTz_q2",
    "outputId": "dcb1f122-8513-4866-fcb1-f4fd939cab9a"
   },
   "execution_count": 73,
   "outputs": [
    {
     "output_type": "display_data",
     "data": {
      "text/plain": [
       "<Figure size 432x288 with 1 Axes>"
      ],
      "image/png": "[encoded data removed]"
     },
     "metadata": {
      "needs_background": "light"
     }
    }
   ]
  },
  {
   "cell_type": "markdown",
   "source": [
    "# Applying ARIMA [Original Dataset]"
   ],
   "metadata": {
    "id": "CK5bT3y9h_kd"
   }
  },
  {
   "cell_type": "code",
   "source": [
    "# new test/train split 80/20\n",
    "test_split_size = int(temp_df.shape[0]*0.2)\n",
    "train_split_size = temp_df.shape[0] - test_split_size\n",
    "print(test_split_size, train_split_size, train_split_size+test_split_size, temp_df.shape[0])\n",
    "\n",
    "train_split = temp_df[:train_split_size]\n",
    "test_split = temp_df[train_split_size:]\n",
    "print(train_split.AverageTemperature.head(), test_split.AverageTemperature.head())"
   ],
   "metadata": {
    "colab": {
     "base_uri": "https://localhost:8080/"
    },
    "id": "w83N9x1XiZ8X",
    "outputId": "1da872b9-da75-48d8-e3c4-cf02d9591422"
   },
   "execution_count": 74,
   "outputs": [
    {
     "output_type": "stream",
     "name": "stdout",
     "text": [
      "522 2091 2613 2613\n",
      "dt\n",
      "1796-01-01    24.317\n",
      "1796-02-01    23.923\n",
      "1796-03-01    24.407\n",
      "1796-04-01    27.171\n",
      "1796-05-01    29.050\n",
      "Name: AverageTemperature, dtype: float64 dt\n",
      "1970-04-01    27.835\n",
      "1970-05-01    29.348\n",
      "1970-06-01    27.870\n",
      "1970-07-01    27.384\n",
      "1970-08-01    26.703\n",
      "Name: AverageTemperature, dtype: float64\n"
     ]
    }
   ]
  },
  {
   "cell_type": "code",
   "source": [
    "temp_df.AverageTemperature.plot()\n",
    "plt.show()\n",
    "\n",
    "plt.plot(train_split.AverageTemperature, c='blue')\n",
    "plt.plot(test_split.AverageTemperature, c='green')\n",
    "plt.show()"
   ],
   "metadata": {
    "colab": {
     "base_uri": "https://localhost:8080/",
     "height": 527
    },
    "id": "oUoM7PeliGGj",
    "outputId": "7b3d03ae-752f-465d-bfcc-17faf462e8eb"
   },
   "execution_count": 75,
   "outputs": [
    {
     "output_type": "display_data",
     "data": {
      "text/plain": [
       "<Figure size 432x288 with 1 Axes>"
      ],
      "image/png": "[encoded data removed]"
     },
     "metadata": {
      "needs_background": "light"
     }
    },
    {
     "output_type": "display_data",
     "data": {
      "text/plain": [
       "<Figure size 432x288 with 1 Axes>"
      ],
      "image/png": "[encoded data removed]"
     },
     "metadata": {
      "needs_background": "light"
     }
    }
   ]
  },
  {
   "cell_type": "code",
   "source": [
    "from statsmodels.tsa.arima.model import ARIMA\n",
    "\n",
    "statsmodels_arima_model = ARIMA(train_split.AverageTemperature, order=(4,1,3))\n",
    "statsmodels_arima_results = statsmodels_arima_model.fit()\n",
    "print(statsmodels_arima_results.summary())"
   ],
   "metadata": {
    "colab": {
     "base_uri": "https://localhost:8080/"
    },
    "id": "-nFDwDtDiGT7",
    "outputId": "66cf162c-bc79-44c7-fbd5-eeaca679d0c7"
   },
   "execution_count": 76,
   "outputs": [
    {
     "output_type": "stream",
     "name": "stderr",
     "text": [
      "/usr/local/lib/python3.7/dist-packages/statsmodels/tsa/base/tsa_model.py:471: ValueWarning: No frequency information was provided, so inferred frequency MS will be used.\n",
      "  self._init_dates(dates, freq)\n",
      "/usr/local/lib/python3.7/dist-packages/statsmodels/tsa/base/tsa_model.py:471: ValueWarning: No frequency information was provided, so inferred frequency MS will be used.\n",
      "  self._init_dates(dates, freq)\n",
      "/usr/local/lib/python3.7/dist-packages/statsmodels/tsa/base/tsa_model.py:471: ValueWarning: No frequency information was provided, so inferred frequency MS will be used.\n",
      "  self._init_dates(dates, freq)\n"
     ]
    },
    {
     "output_type": "stream",
     "name": "stdout",
     "text": [
      "                               SARIMAX Results                                \n",
      "==============================================================================\n",
      "Dep. Variable:     AverageTemperature   No. Observations:                 2091\n",
      "Model:                 ARIMA(4, 1, 3)   Log Likelihood               -2677.924\n",
      "Date:                Thu, 17 Mar 2022   AIC                           5371.848\n",
      "Time:                        17:44:15   BIC                           5417.008\n",
      "Sample:                    01-01-1796   HQIC                          5388.393\n",
      "                         - 03-01-1970                                         \n",
      "Covariance Type:                  opg                                         \n",
      "==============================================================================\n",
      "                 coef    std err          z      P>|z|      [0.025      0.975]\n",
      "------------------------------------------------------------------------------\n",
      "ar.L1          0.1265      0.060      2.100      0.036       0.008       0.245\n",
      "ar.L2         -0.0237      0.057     -0.418      0.676      -0.135       0.088\n",
      "ar.L3         -0.9750      0.057    -17.158      0.000      -1.086      -0.864\n",
      "ar.L4          0.1031      0.023      4.402      0.000       0.057       0.149\n",
      "ma.L1         -0.0057      0.057     -0.099      0.921      -0.118       0.107\n",
      "ma.L2          0.0416      0.056      0.743      0.458      -0.068       0.152\n",
      "ma.L3          0.9699      0.057     17.033      0.000       0.858       1.082\n",
      "sigma2         0.7807      0.025     31.459      0.000       0.732       0.829\n",
      "===================================================================================\n",
      "Ljung-Box (L1) (Q):                   0.20   Jarque-Bera (JB):                 7.98\n",
      "Prob(Q):                              0.65   Prob(JB):                         0.02\n",
      "Heteroskedasticity (H):               0.96   Skew:                             0.11\n",
      "Prob(H) (two-sided):                  0.62   Kurtosis:                         3.21\n",
      "===================================================================================\n",
      "\n",
      "Warnings:\n",
      "[1] Covariance matrix calculated using the outer product of gradients (complex-step).\n"
     ]
    }
   ]
  },
  {
   "cell_type": "code",
   "source": [
    "statsmodels_arima_predictions = statsmodels_arima_results.predict(start=test_split.index[0], end=test_split.index[-1])\n",
    "statsmodels_arima_predictions.columns = ['predicted_temp']\n",
    "plt.figure(figsize=(8,5))\n",
    "plt.plot(train_split.AverageTemperature,label=\"Training\")\n",
    "plt.plot(test_split.AverageTemperature,label=\"Test\")\n",
    "plt.plot(statsmodels_arima_predictions,label=\"Predicted\")\n",
    "plt.legend(loc = 'upper left')\n",
    "plt.savefig('statsmodels_prediction.jpg')\n",
    "plt.show()"
   ],
   "metadata": {
    "colab": {
     "base_uri": "https://localhost:8080/",
     "height": 320
    },
    "id": "jcTuvU5IiGNP",
    "outputId": "16e0e3e0-5e29-4518-861c-178ffb9ab326"
   },
   "execution_count": 77,
   "outputs": [
    {
     "output_type": "display_data",
     "data": {
      "text/plain": [
       "<Figure size 576x360 with 1 Axes>"
      ],
      "image/png": "[encoded data removed]"
     },
     "metadata": {
      "needs_background": "light"
     }
    }
   ]
  },
  {
   "cell_type": "code",
   "source": [
    "import pmdarima as pm\n",
    "\n",
    "model = pm.auto_arima(train_split.AverageTemperature, \n",
    "                      start_p=0, \n",
    "                      start_q=0,\n",
    "                      test='adf',       # use adftest to find optimal 'd'\n",
    "                      max_p=4, \n",
    "                      max_q=4,          # maximum p and q\n",
    "                      m=1,              # frequency of series\n",
    "                      d=None,           # let model determine 'd'\n",
    "                      seasonal=False,   # No Seasonality\n",
    "                      start_P=0, \n",
    "                      D=0, \n",
    "                      trace=True,\n",
    "                      error_action='ignore',  \n",
    "                      suppress_warnings=True, \n",
    "                      stepwise=True)\n",
    "print(model.summary())"
   ],
   "metadata": {
    "colab": {
     "base_uri": "https://localhost:8080/"
    },
    "id": "uqT8rf_FiF-9",
    "outputId": "20b19518-4f46-4a29-b9a5-e73bbc45ab28"
   },
   "execution_count": 78,
   "outputs": [
    {
     "output_type": "stream",
     "name": "stdout",
     "text": [
      "Performing stepwise search to minimize aic\n",
      " ARIMA(0,0,0)(0,0,0)[0]             : AIC=19648.567, Time=0.05 sec\n",
      " ARIMA(1,0,0)(0,0,0)[0]             : AIC=inf, Time=0.08 sec\n",
      " ARIMA(0,0,1)(0,0,0)[0]             : AIC=16854.557, Time=0.29 sec\n",
      " ARIMA(1,0,1)(0,0,0)[0]             : AIC=6759.267, Time=0.14 sec\n",
      " ARIMA(2,0,1)(0,0,0)[0]             : AIC=6755.301, Time=0.68 sec\n",
      " ARIMA(2,0,0)(0,0,0)[0]             : AIC=inf, Time=0.15 sec\n",
      " ARIMA(3,0,1)(0,0,0)[0]             : AIC=5720.322, Time=1.80 sec\n",
      " ARIMA(3,0,0)(0,0,0)[0]             : AIC=inf, Time=0.18 sec\n",
      " ARIMA(4,0,1)(0,0,0)[0]             : AIC=6024.313, Time=1.33 sec\n",
      " ARIMA(3,0,2)(0,0,0)[0]             : AIC=inf, Time=2.35 sec\n",
      " ARIMA(2,0,2)(0,0,0)[0]             : AIC=inf, Time=2.38 sec\n",
      " ARIMA(4,0,0)(0,0,0)[0]             : AIC=inf, Time=0.27 sec\n",
      " ARIMA(4,0,2)(0,0,0)[0]             : AIC=inf, Time=3.72 sec\n",
      " ARIMA(3,0,1)(0,0,0)[0] intercept   : AIC=5715.665, Time=3.65 sec\n",
      " ARIMA(2,0,1)(0,0,0)[0] intercept   : AIC=5722.452, Time=2.78 sec\n",
      " ARIMA(3,0,0)(0,0,0)[0] intercept   : AIC=5715.774, Time=0.42 sec\n",
      " ARIMA(4,0,1)(0,0,0)[0] intercept   : AIC=5635.122, Time=3.70 sec\n",
      " ARIMA(4,0,0)(0,0,0)[0] intercept   : AIC=5633.375, Time=1.81 sec\n",
      "\n",
      "Best model:  ARIMA(4,0,0)(0,0,0)[0] intercept\n",
      "Total fit time: 25.799 seconds\n",
      "                               SARIMAX Results                                \n",
      "==============================================================================\n",
      "Dep. Variable:                      y   No. Observations:                 2091\n",
      "Model:               SARIMAX(4, 0, 0)   Log Likelihood               -2810.688\n",
      "Date:                Thu, 17 Mar 2022   AIC                           5633.375\n",
      "Time:                        17:44:58   BIC                           5667.248\n",
      "Sample:                             0   HQIC                          5645.785\n",
      "                               - 2091                                         \n",
      "Covariance Type:                  opg                                         \n",
      "==============================================================================\n",
      "                 coef    std err          z      P>|z|      [0.025      0.975]\n",
      "------------------------------------------------------------------------------\n",
      "intercept     12.6652      0.604     20.970      0.000      11.481      13.849\n",
      "ar.L1          1.0221      0.022     45.897      0.000       0.978       1.066\n",
      "ar.L2         -0.4091      0.031    -13.349      0.000      -0.469      -0.349\n",
      "ar.L3         -0.2903      0.029     -9.939      0.000      -0.348      -0.233\n",
      "ar.L4          0.1994      0.023      8.814      0.000       0.155       0.244\n",
      "sigma2         0.8603      0.026     32.473      0.000       0.808       0.912\n",
      "===================================================================================\n",
      "Ljung-Box (L1) (Q):                   0.09   Jarque-Bera (JB):                48.50\n",
      "Prob(Q):                              0.76   Prob(JB):                         0.00\n",
      "Heteroskedasticity (H):               0.96   Skew:                            -0.36\n",
      "Prob(H) (two-sided):                  0.63   Kurtosis:                         3.18\n",
      "===================================================================================\n",
      "\n",
      "Warnings:\n",
      "[1] Covariance matrix calculated using the outer product of gradients (complex-step).\n"
     ]
    }
   ]
  },
  {
   "cell_type": "code",
   "source": [
    "dates= pd.date_range(test_split.index[0],'2222-02-01' , freq='1M')-pd.offsets.MonthBegin(1)\n",
    "\n",
    "model_predictions = model.predict_in_sample(start=1, end=test_split_size+100+(12*200))\n",
    "model_predictions = pd.Series(model_predictions, index=dates)\n",
    "model_predictions\n",
    "model_predictions.columns = ['predicted_temp']\n",
    "plt.figure(figsize=(8,5))\n",
    "plt.plot(train_split.AverageTemperature,label=\"Training\")\n",
    "plt.plot(test_split.AverageTemperature,label=\"Test\")\n",
    "plt.plot(model_predictions,label=\"Predicted\")\n",
    "plt.legend(loc = 'upper left')\n",
    "plt.savefig('auto_arima_predictions.jpg')\n",
    "plt.show()"
   ],
   "metadata": {
    "colab": {
     "base_uri": "https://localhost:8080/",
     "height": 320
    },
    "id": "FBq8TcBUiFz2",
    "outputId": "76b117f2-a3e7-4a14-d198-9124baa9c5fa"
   },
   "execution_count": 170,
   "outputs": [
    {
     "output_type": "display_data",
     "data": {
      "text/plain": [
       "<Figure size 576x360 with 1 Axes>"
      ],
      "image/png": "[encoded data removed]"
     },
     "metadata": {
      "needs_background": "light"
     }
    }
   ]
  },
  {
   "cell_type": "code",
   "source": [
    "plt.plot(test_split.AverageTemperature,label=\"Test\")\n",
    "plt.plot(model_predictions,label=\"Predicted\")\n",
    "plt.legend(loc = 'upper left')\n",
    "plt.savefig('auto_arima_in_sample_pred.jpg')\n",
    "plt.show()"
   ],
   "metadata": {
    "colab": {
     "base_uri": "https://localhost:8080/",
     "height": 265
    },
    "id": "QotKs3FzkyBp",
    "outputId": "12bed2b9-3277-4572-cbea-156cde78c791"
   },
   "execution_count": 80,
   "outputs": [
    {
     "output_type": "display_data",
     "data": {
      "text/plain": [
       "<Figure size 432x288 with 1 Axes>"
      ],
      "image/png": "[encoded data removed]"
     },
     "metadata": {
      "needs_background": "light"
     }
    }
   ]
  },
  {
   "cell_type": "code",
   "source": [
    "# # Generate index dates\n",
    "# dates= pd.date_range(test_split.index[-1],'2022-01-01' , freq='1M')-pd.offsets.MonthBegin(1)\n",
    "# len(dates)"
   ],
   "metadata": {
    "colab": {
     "base_uri": "https://localhost:8080/"
    },
    "id": "9Jr-5avvIwBg",
    "outputId": "b144ee4b-8a36-4be6-e386-e8179686e69e"
   },
   "execution_count": 160,
   "outputs": [
    {
     "output_type": "execute_result",
     "data": {
      "text/plain": [
       "100"
      ]
     },
     "metadata": {},
     "execution_count": 160
    }
   ]
  },
  {
   "cell_type": "code",
   "source": [
    "# High/Low marginals\n",
    "model_predictions = model.predict(n_periods=12, alpha=0.05, return_conf_int=True)\n",
    "pred_act = pd.Series(model_predictions[0])\n",
    "pred_df = pd.DataFrame(model_predictions[1].copy())\n",
    "plt.plot(pred_act)\n",
    "plt.plot(pred_df.loc[:][0], c=\"blue\")\n",
    "plt.plot(pred_df.loc[:][1], c=\"blue\")\n",
    "plt.show()"
   ],
   "metadata": {
    "colab": {
     "base_uri": "https://localhost:8080/",
     "height": 265
    },
    "id": "DsYHh6z3m7k6",
    "outputId": "a2e34cb4-e282-479c-ed89-b1eee45628bd"
   },
   "execution_count": 106,
   "outputs": [
    {
     "output_type": "display_data",
     "data": {
      "text/plain": [
       "<Figure size 432x288 with 1 Axes>"
      ],
      "image/png": "[encoded data removed]"
     },
     "metadata": {
      "needs_background": "light"
     }
    }
   ]
  },
  {
   "cell_type": "code",
   "source": [
    ""
   ],
   "metadata": {
    "id": "xLeU6e4HQ9G6"
   },
   "execution_count": null,
   "outputs": []
  }
 ]
}